{
 "cells": [
  {
   "cell_type": "markdown",
   "metadata": {
    "deletable": true,
    "editable": true
   },
   "source": [
    "# Self-Driving Car Engineer Nanodegree\n",
    "\n",
    "## Deep Learning\n",
    "\n",
    "## Project: Build a Traffic Sign Recognition Classifier\n",
    "\n",
    "In this notebook, a template is provided for you to implement your functionality in stages, which is required to successfully complete this project. If additional code is required that cannot be included in the notebook, be sure that the Python code is successfully imported and included in your submission if necessary. \n",
    "\n",
    "> **Note**: Once you have completed all of the code implementations, you need to finalize your work by exporting the iPython Notebook as an HTML document. Before exporting the notebook to html, all of the code cells need to have been run so that reviewers can see the final implementation and output. You can then export the notebook by using the menu above and navigating to  \\n\",\n",
    "    \"**File -> Download as -> HTML (.html)**. Include the finished document along with this notebook as your submission. \n",
    "\n",
    "In addition to implementing code, there is a writeup to complete. The writeup should be completed in a separate file, which can be either a markdown file or a pdf document. There is a [write up template](https://github.com/udacity/CarND-Traffic-Sign-Classifier-Project/blob/master/writeup_template.md) that can be used to guide the writing process. Completing the code template and writeup template will cover all of the [rubric points](https://review.udacity.com/#!/rubrics/481/view) for this project.\n",
    "\n",
    "The [rubric](https://review.udacity.com/#!/rubrics/481/view) contains \"Stand Out Suggestions\" for enhancing the project beyond the minimum requirements. The stand out suggestions are optional. If you decide to pursue the \"stand out suggestions\", you can include the code in this Ipython notebook and also discuss the results in the writeup file.\n",
    "\n",
    "\n",
    ">**Note:** Code and Markdown cells can be executed using the **Shift + Enter** keyboard shortcut. In addition, Markdown cells can be edited by typically double-clicking the cell to enter edit mode."
   ]
  },
  {
   "cell_type": "markdown",
   "metadata": {
    "deletable": true,
    "editable": true
   },
   "source": [
    "---\n",
    "## Step 0: Load The Data"
   ]
  },
  {
   "cell_type": "code",
   "execution_count": 28,
   "metadata": {
    "collapsed": false,
    "deletable": true,
    "editable": true
   },
   "outputs": [
    {
     "name": "stdout",
     "output_type": "stream",
     "text": [
      "\n",
      "Image Shape: (32, 32, 3)\n",
      "\n",
      "Training Set:   34799 samples\n",
      "Validation Set: 4410 samples\n",
      "Test Set:       12630 samples\n"
     ]
    }
   ],
   "source": [
    "# Load pickled data\n",
    "import pickle\n",
    "\n",
    "training_file = './traffic-signs-data/train.p'\n",
    "validation_file= './traffic-signs-data/valid.p'\n",
    "testing_file = './traffic-signs-data/test.p'\n",
    "augmented_training_file = './traffic-signs-data/augmented_training_file.p'\n",
    "\n",
    "def load_image(file):\n",
    "    with open(file, mode='rb') as f:\n",
    "        data = pickle.load(f)\n",
    "    X, y = data['features'], data['labels']\n",
    "    assert(len(X) == len(y))\n",
    "    return X, y\n",
    "    \n",
    "X_train, y_train = load_image(training_file)\n",
    "X_valid, y_valid = load_image(validation_file)\n",
    "X_test, y_test = load_image(testing_file)\n",
    "\n",
    "\n",
    "print()\n",
    "print(\"Image Shape: {}\".format(X_train[0].shape))\n",
    "print()\n",
    "print(\"Training Set:   {} samples\".format(len(X_train)))\n",
    "print(\"Validation Set: {} samples\".format(len(X_valid)))\n",
    "print(\"Test Set:       {} samples\".format(len(X_test)))"
   ]
  },
  {
   "cell_type": "markdown",
   "metadata": {
    "deletable": true,
    "editable": true
   },
   "source": [
    "---\n",
    "\n",
    "## Step 1: Dataset Summary & Exploration\n",
    "\n",
    "The pickled data is a dictionary with 4 key/value pairs:\n",
    "\n",
    "- `'features'` is a 4D array containing raw pixel data of the traffic sign images, (num examples, width, height, channels).\n",
    "- `'labels'` is a 1D array containing the label/class id of the traffic sign. The file `signnames.csv` contains id -> name mappings for each id.\n",
    "- `'sizes'` is a list containing tuples, (width, height) representing the original width and height the image.\n",
    "- `'coords'` is a list containing tuples, (x1, y1, x2, y2) representing coordinates of a bounding box around the sign in the image. **THESE COORDINATES ASSUME THE ORIGINAL IMAGE. THE PICKLED DATA CONTAINS RESIZED VERSIONS (32 by 32) OF THESE IMAGES**\n",
    "\n",
    "Complete the basic data summary below. Use python, numpy and/or pandas methods to calculate the data summary rather than hard coding the results. For example, the [pandas shape method](http://pandas.pydata.org/pandas-docs/stable/generated/pandas.DataFrame.shape.html) might be useful for calculating some of the summary results. "
   ]
  },
  {
   "cell_type": "markdown",
   "metadata": {
    "deletable": true,
    "editable": true
   },
   "source": [
    "### Provide a Basic Summary of the Data Set Using Python, Numpy and/or Pandas"
   ]
  },
  {
   "cell_type": "code",
   "execution_count": 2,
   "metadata": {
    "collapsed": false,
    "deletable": true,
    "editable": true
   },
   "outputs": [
    {
     "name": "stdout",
     "output_type": "stream",
     "text": [
      "Number of training examples = 34799\n",
      "Number of testing examples = 12630\n",
      "Image data shape = (32, 32, 3)\n",
      "Number of classes = 43\n",
      "Signs: \n",
      "\n",
      "0 Speed limit (20km/h)\n",
      "\n",
      "1 Speed limit (30km/h)\n",
      "\n",
      "2 Speed limit (50km/h)\n",
      "\n",
      "3 Speed limit (60km/h)\n",
      "\n",
      "4 Speed limit (70km/h)\n",
      "\n",
      "5 Speed limit (80km/h)\n",
      "\n",
      "6 End of speed limit (80km/h)\n",
      "\n",
      "7 Speed limit (100km/h)\n",
      "\n",
      "8 Speed limit (120km/h)\n",
      "\n",
      "9 No passing\n",
      "\n",
      "10 No passing for vehicles over 3.5 metric tons\n",
      "\n",
      "11 Right-of-way at the next intersection\n",
      "\n",
      "12 Priority road\n",
      "\n",
      "13 Yield\n",
      "\n",
      "14 Stop\n",
      "\n",
      "15 No vehicles\n",
      "\n",
      "16 Vehicles over 3.5 metric tons prohibited\n",
      "\n",
      "17 No entry\n",
      "\n",
      "18 General caution\n",
      "\n",
      "19 Dangerous curve to the left\n",
      "\n",
      "20 Dangerous curve to the right\n",
      "\n",
      "21 Double curve\n",
      "\n",
      "22 Bumpy road\n",
      "\n",
      "23 Slippery road\n",
      "\n",
      "24 Road narrows on the right\n",
      "\n",
      "25 Road work\n",
      "\n",
      "26 Traffic signals\n",
      "\n",
      "27 Pedestrians\n",
      "\n",
      "28 Children crossing\n",
      "\n",
      "29 Bicycles crossing\n",
      "\n",
      "30 Beware of ice/snow\n",
      "\n",
      "31 Wild animals crossing\n",
      "\n",
      "32 End of all speed and passing limits\n",
      "\n",
      "33 Turn right ahead\n",
      "\n",
      "34 Turn left ahead\n",
      "\n",
      "35 Ahead only\n",
      "\n",
      "36 Go straight or right\n",
      "\n",
      "37 Go straight or left\n",
      "\n",
      "38 Keep right\n",
      "\n",
      "39 Keep left\n",
      "\n",
      "40 Roundabout mandatory\n",
      "\n",
      "41 End of no passing\n",
      "\n",
      "42 End of no passing by vehicles over 3.5 metric tons\n"
     ]
    }
   ],
   "source": [
    "import csv\n",
    "### Replace each question mark with the appropriate value. \n",
    "### Use python, pandas or numpy methods rather than hard coding the results\n",
    "\n",
    "# Number of training examples\n",
    "n_train = len(X_train)\n",
    "\n",
    "# Number of testing examples.\n",
    "n_test = len(X_test)\n",
    "\n",
    "# What's the shape of an traffic sign image?\n",
    "image_shape = X_train[0].shape\n",
    "\n",
    "# TODO: How many unique classes/labels there are in the dataset.\n",
    "n_classes = 43\n",
    "\n",
    "print(\"Number of training examples =\", n_train)\n",
    "print(\"Number of testing examples =\", n_test)\n",
    "print(\"Image data shape =\", image_shape)\n",
    "print(\"Number of classes =\", n_classes)\n",
    "\n",
    "y_names = {}\n",
    "with open(\"signnames.csv\", \"r\") as sgn_file:\n",
    "    sign_reader = csv.DictReader(sgn_file)\n",
    "    print(\"Signs: \")\n",
    "    for row in sign_reader:\n",
    "        print()\n",
    "        print(int(row['ClassId']), row['SignName'])\n",
    "        y_names[int(row['ClassId'])] = row['SignName']\n",
    "\n",
    "def get_name(index):\n",
    "    return \"[\" + str(index) + \"-\" + y_names[index] + \"]\""
   ]
  },
  {
   "cell_type": "markdown",
   "metadata": {
    "deletable": true,
    "editable": true
   },
   "source": [
    "### Include an exploratory visualization of the dataset"
   ]
  },
  {
   "cell_type": "markdown",
   "metadata": {
    "deletable": true,
    "editable": true
   },
   "source": [
    "Visualize the German Traffic Signs Dataset using the pickled file(s). This is open ended, suggestions include: plotting traffic sign images, plotting the count of each sign, etc.\n",
    "\n",
    "The [Matplotlib](http://matplotlib.org/) [examples](http://matplotlib.org/examples/index.html) and [gallery](http://matplotlib.org/gallery.html) pages are a great resource for doing visualizations in Python.\n",
    "\n",
    "**NOTE:** It's recommended you start with something simple first. If you wish to do more, come back to it after you've completed the rest of the sections."
   ]
  },
  {
   "cell_type": "code",
   "execution_count": 3,
   "metadata": {
    "collapsed": false,
    "deletable": true,
    "editable": true
   },
   "outputs": [
    {
     "name": "stdout",
     "output_type": "stream",
     "text": [
      "18\n"
     ]
    },
    {
     "data": {
      "image/png": "[encoded data removed]",
      "text/plain": [
       "<matplotlib.figure.Figure at 0x111fe12b0>"
      ]
     },
     "metadata": {},
     "output_type": "display_data"
    }
   ],
   "source": [
    "### Data exploration visualization code goes here.\n",
    "### Feel free to use as many code cells as needed.\n",
    "import random\n",
    "import matplotlib.pyplot as plt\n",
    "# Visualizations will be shown in the notebook.\n",
    "%matplotlib inline\n",
    "\n",
    "def display_random_image(X,y):\n",
    "    index = random.randint(0, len(X)-1)\n",
    "    image = X[index].squeeze()\n",
    "\n",
    "    plt.figure(figsize=(1,1))\n",
    "    plt.imshow(image)\n",
    "    print(y[index])\n",
    "\n",
    "display_random_image(X_train, y_train)    "
   ]
  },
  {
   "cell_type": "markdown",
   "metadata": {
    "deletable": true,
    "editable": true
   },
   "source": [
    "### Data Distribution\n",
    "\n",
    "From below distribution we can see that the data in each set is quite skewed. This has to be kept in mind while creating a Training Model."
   ]
  },
  {
   "cell_type": "code",
   "execution_count": 4,
   "metadata": {
    "collapsed": false,
    "deletable": true,
    "editable": true
   },
   "outputs": [
    {
     "data": {
      "image/png": "[encoded data removed]",
      "text/plain": [
       "<matplotlib.figure.Figure at 0x111fc2ef0>"
      ]
     },
     "metadata": {},
     "output_type": "display_data"
    },
    {
     "data": {
      "image/png": "[encoded data removed]",
      "text/plain": [
       "<matplotlib.figure.Figure at 0x127f19080>"
      ]
     },
     "metadata": {},
     "output_type": "display_data"
    },
    {
     "data": {
      "image/png": "[encoded data removed]",
      "text/plain": [
       "<matplotlib.figure.Figure at 0x127f19b70>"
      ]
     },
     "metadata": {},
     "output_type": "display_data"
    }
   ],
   "source": [
    "import numpy as np\n",
    "\n",
    "def plot_data_dist(y, dataset_name):\n",
    "    # Count frequency of each label\n",
    "    labels, counts = np.unique(y, return_counts=True)\n",
    "    # Plot the histogram\n",
    "    plt.rcParams[\"figure.figsize\"] = [15, 5]\n",
    "    axes = plt.gca()\n",
    "    axes.set_xlim([-1,43])\n",
    "\n",
    "    plt.bar(labels, counts, tick_label=labels, width=0.8, align='center')\n",
    "    plt.title('Class Distribution across {} Data'.format(dataset_name))\n",
    "    plt.show()\n",
    "\n",
    "plot_data_dist(y_train, 'Training')\n",
    "plot_data_dist(y_valid, 'Validation')\n",
    "plot_data_dist(y_test, 'Test')"
   ]
  },
  {
   "cell_type": "markdown",
   "metadata": {
    "deletable": true,
    "editable": true
   },
   "source": [
    "### Augment Data\n",
    "In order to reduce the skewness of training set some distortion are done to the train set by picking up images at random."
   ]
  },
  {
   "cell_type": "code",
   "execution_count": 5,
   "metadata": {
    "collapsed": false,
    "deletable": true,
    "editable": true
   },
   "outputs": [
    {
     "name": "stdout",
     "output_type": "stream",
     "text": [
      "Augmenting data with random transformations\n",
      "Augmentation Complete\n"
     ]
    }
   ],
   "source": [
    "import cv2\n",
    "from functools import partial\n",
    "import tensorflow as tf\n",
    "\n",
    "ANGLE = 45\n",
    "TRANSLATION_FACTOR = 0.5\n",
    "\n",
    "distortions = [\n",
    "    partial(tf.image.random_brightness, max_delta=50),\n",
    "    partial(tf.image.random_flip_up_down),\n",
    "    partial(tf.image.random_flip_left_right),\n",
    "    partial(tf.image.random_hue, max_delta=0.10),\n",
    "    partial(tf.image.random_contrast, lower=0, upper=10),\n",
    "    partial(tf.image.random_saturation, lower=0, upper=10)\n",
    "]\n",
    "\n",
    "def distort_image(image):\n",
    "    index = int(np.random.uniform()*len(distortions))\n",
    "    new_image = distortions[index](image = image)\n",
    "    x_aug_variable = tf.placeholder(tf.float32, image.shape)\n",
    "    with tf.Session() as sess:\n",
    "        sess.run(tf.global_variables_initializer())\n",
    "        x_aug = sess.run(new_image, {x_aug_variable: image})\n",
    "    return x_aug\n",
    "\n",
    "def aug_data(X,y):\n",
    "    print('Augmenting data with random transformations')\n",
    "    # Increase the number of images\n",
    "    for i in range(len(X)):\n",
    "        # Pick a random image from original dataset to transform\n",
    "        rand_idx = np.random.randint(X.shape[0])\n",
    "\n",
    "        # Create new image\n",
    "        image = distort_image(X[rand_idx])\n",
    "\n",
    "        # Add new data to augmented dataset\n",
    "        if i == 0:\n",
    "            new_X = np.expand_dims(image, axis=0)\n",
    "            new_y = np.array([y[rand_idx]])\n",
    "        else:\n",
    "            new_X = np.concatenate((new_X, np.expand_dims(image, axis=0)))\n",
    "            new_y = np.append(new_y, y[rand_idx])\n",
    "            \n",
    "        if (i+1)%100 == 0:\n",
    "            print('Augmented {} images'.format(i+1))\n",
    "        \n",
    "    new_X = np.concatenate((X, new_X))\n",
    "    new_y = np.concatenate((y, new_y))\n",
    "    new_data = {'features': new_X, 'labels': new_y}\n",
    "    with open(augmented_training_file, mode='wb') as f:\n",
    "        pickle.dump(new_data, f)\n",
    "    print('Augmentation Complete')\n",
    "\n",
    "aug_data(X_train, y_train)"
   ]
  },
  {
   "cell_type": "markdown",
   "metadata": {
    "deletable": true,
    "editable": true
   },
   "source": [
    "Data is sugmented and distribution is analysed again."
   ]
  },
  {
   "cell_type": "code",
   "execution_count": 29,
   "metadata": {
    "collapsed": false,
    "deletable": true,
    "editable": true
   },
   "outputs": [
    {
     "name": "stdout",
     "output_type": "stream",
     "text": [
      "\n",
      "Image Shape: (32, 32, 3)\n",
      "\n"
     ]
    },
    {
     "data": {
      "image/png": "[encoded data removed]",
      "text/plain": [
       "<matplotlib.figure.Figure at 0x11ca13630>"
      ]
     },
     "metadata": {},
     "output_type": "display_data"
    }
   ],
   "source": [
    "X_train, y_train = load_image(augmented_training_file)\n",
    "print()\n",
    "print(\"Image Shape: {}\".format(X_train[0].shape))\n",
    "print()\n",
    "plot_data_dist(y_train, 'Training')"
   ]
  },
  {
   "cell_type": "markdown",
   "metadata": {
    "deletable": true,
    "editable": true
   },
   "source": [
    "----\n",
    "\n",
    "## Step 2: Design and Test a Model Architecture\n",
    "\n",
    "Design and implement a deep learning model that learns to recognize traffic signs. Train and test your model on the [German Traffic Sign Dataset](http://benchmark.ini.rub.de/?section=gtsrb&subsection=dataset).\n",
    "\n",
    "The LeNet-5 implementation shown in the [classroom](https://classroom.udacity.com/nanodegrees/nd013/parts/fbf77062-5703-404e-b60c-95b78b2f3f9e/modules/6df7ae49-c61c-4bb2-a23e-6527e69209ec/lessons/601ae704-1035-4287-8b11-e2c2716217ad/concepts/d4aca031-508f-4e0b-b493-e7b706120f81) at the end of the CNN lesson is a solid starting point. You'll have to change the number of classes and possibly the preprocessing, but aside from that it's plug and play! \n",
    "\n",
    "With the LeNet-5 solution from the lecture, you should expect a validation set accuracy of about 0.89. To meet specifications, the validation set accuracy will need to be at least 0.93. It is possible to get an even higher accuracy, but 0.93 is the minimum for a successful project submission. \n",
    "\n",
    "There are various aspects to consider when thinking about this problem:\n",
    "\n",
    "- Neural network architecture (is the network over or underfitting?)\n",
    "- Play around preprocessing techniques (normalization, rgb to grayscale, etc)\n",
    "- Number of examples per label (some have more than others).\n",
    "- Generate fake data.\n",
    "\n",
    "Here is an example of a [published baseline model on this problem](http://yann.lecun.com/exdb/publis/pdf/sermanet-ijcnn-11.pdf). It's not required to be familiar with the approach used in the paper but, it's good practice to try to read papers like these."
   ]
  },
  {
   "cell_type": "markdown",
   "metadata": {
    "deletable": true,
    "editable": true
   },
   "source": [
    "### Pre-process the Data Set (normalization, grayscale, etc.)"
   ]
  },
  {
   "cell_type": "markdown",
   "metadata": {
    "deletable": true,
    "editable": true
   },
   "source": [
    "Use the code cell (or multiple code cells, if necessary) to implement the first step of your project."
   ]
  },
  {
   "cell_type": "code",
   "execution_count": 7,
   "metadata": {
    "collapsed": false,
    "deletable": true,
    "editable": true
   },
   "outputs": [
    {
     "name": "stdout",
     "output_type": "stream",
     "text": [
      "Shape before preprocessing:  (34810, 32, 32, 3)\n",
      "Shape after preprocessing:  (34810, 32, 32, 1)\n"
     ]
    }
   ],
   "source": [
    "### Preprocess the data here. Preprocessing steps could include normalization, converting to grayscale, etc.\n",
    "### Feel free to use as many code cells as needed.\n",
    "from sklearn.utils import shuffle\n",
    "import cv2\n",
    "import numpy as np\n",
    "\n",
    "X_train, y_train = shuffle(X_train, y_train)\n",
    "\n",
    "def plot_image(images, title=\"\"):\n",
    "    plt.figure(figsize=(len(images)*2, 2))\n",
    "    plt.title(title)\n",
    "    if(len(images[0].shape) > 2 and images[0].shape[2] > 1):\n",
    "        plt.imshow(np.hstack(images))\n",
    "    else:\n",
    "        plt.imshow(np.hstack([i.squeeze() for i in images]), cmap='gray')\n",
    "    plt.show()\n",
    "    \n",
    "def preprocess(img):\n",
    "    \n",
    "    # Convert to grayscale\n",
    "    gray_image = cv2.cvtColor(img, cv2.COLOR_BGR2GRAY)\n",
    "    \n",
    "    # We normalize in order to deal with overly bright or overly dark pictures\n",
    "    norm_image = cv2.normalize(gray_image, np.zeros(gray_image.shape), 0, 255, cv2.NORM_MINMAX, dtype=cv2.CV_8U)\n",
    "    \n",
    "    return np.stack([norm_image], axis = -1)\n",
    "\n",
    "def preprocess_list(images):\n",
    "    processed_images = [preprocess(img) for img in images]\n",
    "    return np.array(processed_images).reshape((images.shape[0],) + processed_images[0].shape)\n",
    "\n",
    "print(\"Shape before preprocessing: \", X_train.shape)\n",
    "processed_X_train = preprocess_list(X_train)\n",
    "processed_y_train = np.copy(y_train)\n",
    "print(\"Shape after preprocessing: \", processed_X_train.shape)\n",
    "    \n",
    "    \n",
    "processed_X_valid = preprocess_list(X_valid)\n",
    "processed_y_valid = np.copy(y_valid)"
   ]
  },
  {
   "cell_type": "markdown",
   "metadata": {
    "deletable": true,
    "editable": true
   },
   "source": [
    "### Validate Processed Image"
   ]
  },
  {
   "cell_type": "code",
   "execution_count": 8,
   "metadata": {
    "collapsed": false,
    "deletable": true,
    "editable": true
   },
   "outputs": [
    {
     "name": "stdout",
     "output_type": "stream",
     "text": [
      "Image index:  17698\n"
     ]
    },
    {
     "data": {
      "image/png": "[encoded data removed]",
      "text/plain": [
       "<matplotlib.figure.Figure at 0x132d7be48>"
      ]
     },
     "metadata": {},
     "output_type": "display_data"
    },
    {
     "data": {
      "image/png": "[encoded data removed]",
      "text/plain": [
       "<matplotlib.figure.Figure at 0x13a940b00>"
      ]
     },
     "metadata": {},
     "output_type": "display_data"
    }
   ],
   "source": [
    "import random\n",
    "import cv2\n",
    "import matplotlib.pyplot as plt\n",
    "%matplotlib inline\n",
    "\n",
    "\n",
    "index = random.randint(0, len(X_train)-1)\n",
    "print(\"Image index: \", index)\n",
    "\n",
    "plot_image([X_train[index]], \"Image before preprocessing \" + get_name(y_train[index]))\n",
    "plot_image([processed_X_train[index]], \"Image after preprocessing \" + get_name(processed_y_train[index]))"
   ]
  },
  {
   "cell_type": "code",
   "execution_count": 9,
   "metadata": {
    "collapsed": true,
    "deletable": true,
    "editable": true
   },
   "outputs": [],
   "source": [
    "EPOCHS = 30\n",
    "BATCH_SIZE = 128\n",
    "\n",
    "model = './models/ccnet'"
   ]
  },
  {
   "cell_type": "markdown",
   "metadata": {
    "deletable": true,
    "editable": true
   },
   "source": [
    "### Model Architecture"
   ]
  },
  {
   "cell_type": "code",
   "execution_count": 10,
   "metadata": {
    "collapsed": true,
    "deletable": true,
    "editable": true
   },
   "outputs": [],
   "source": [
    "### Define your architecture here.\n",
    "### Feel free to use as many code cells as needed.\n",
    "from tensorflow.contrib.layers import flatten\n",
    "\n",
    "MU = 0\n",
    "SIGMA = 0.1\n",
    "\n",
    "keep_prob = tf.placeholder(tf.float32)\n",
    "\n",
    "def conv(\n",
    "    x, \n",
    "    depth, \n",
    "    filter_shape_x,\n",
    "    filter_shape_y,\n",
    "    filter_depth,\n",
    "    stride_x,\n",
    "    stride_y\n",
    "):\n",
    "    # Convolution\n",
    "    layer_w = tf.Variable(tf.truncated_normal(shape=(filter_shape_x,filter_shape_y, depth, filter_depth), mean = MU, stddev = SIGMA))\n",
    "    layer_b = tf.Variable(tf.zeros(filter_depth))\n",
    "    layer  = tf.nn.conv2d(x, layer_w, strides=[1, stride_x, stride_y, 1], padding='VALID') + layer_b\n",
    "    #Activation.\n",
    "    layer = tf.nn.relu(layer)\n",
    "    return layer\n",
    "\n",
    "def avg_pool(\n",
    "    x, \n",
    "    ksize, \n",
    "    stride_x, \n",
    "    stride_y\n",
    "):\n",
    "    return tf.nn.avg_pool(x, ksize, strides=[1, stride_x, stride_y, 1], padding='VALID')\n",
    "\n",
    "def fully_connected_network(\n",
    "    x, \n",
    "    input_x, \n",
    "    input_y\n",
    "):\n",
    "    fc_W = tf.Variable(tf.truncated_normal(shape=(input_x, input_y), mean = MU, stddev = SIGMA))\n",
    "    fc_b = tf.Variable(tf.zeros(input_y))\n",
    "    fc   = tf.matmul(x, fc_W) + fc_b\n",
    "    \n",
    "    return fc\n",
    "\n",
    "def activation(x):\n",
    "    return tf.nn.relu(x)\n",
    "\n",
    "def dropout(x):\n",
    "    return tf.nn.dropout(x, keep_prob)\n",
    "    \n",
    "def CNNet(x):    \n",
    "    \"\"\"Architecture for CNN\n",
    "    \"\"\"\n",
    "    #Layer 1: Convolutional. Input = 32x32x3. Output = 30x30x6.\n",
    "    layer1 = conv(x, 1, 3, 3, 6, 1, 1)\n",
    "    \n",
    "    #Layer 2: Convolutional. Input = 30x30x3. Output = 28x28x12.\n",
    "    layer2 = conv(layer1, 6, 3, 3, 12, 1, 1)\n",
    "    \n",
    "    # Average Pooling. Input = 28x28x12. Output = 14x14x12.\n",
    "    layer2 = avg_pool(layer2, ksize=[1, 2, 2, 1], stride_x=2, stride_y=2)\n",
    "    \n",
    "    #Layer 3: Convolutional. Input = 14x14x12. Output = 10x10x32.\n",
    "    layer3 = conv(layer2, 12, 5, 5, 32, 1, 1)\n",
    "    \n",
    "    # Average Pooling. Input = 10x10x32. Output = 5x5x32.\n",
    "    layer3 = avg_pool(layer3, ksize=[1, 2, 2, 1], stride_x=2, stride_y=2)\n",
    "    \n",
    "    #Flatten. Input = 5x5x32. Output = 800.\n",
    "    flat_data   = flatten(layer3)\n",
    "    \n",
    "    #Layer 4: Fully Connected. Input = 800. Output = 240.\n",
    "    layer4 = fully_connected_network(flat_data, 800, 240)\n",
    "    #Activation.\n",
    "    layer4 = activation(layer4)\n",
    "    \n",
    "    #Layer 5: Fully Connected. Input = 240. Output = 168.\n",
    "    layer5 = fully_connected_network(layer4, 240, 168)\n",
    "    #Activation.\n",
    "    layer5 = activation(layer5)\n",
    "    \n",
    "    #Dropout\n",
    "    dop = dropout(layer5)\n",
    "    #Layer 6: Fully Connected. Input = 168. Output = 43.\n",
    "    logits   = fully_connected_network(dop, 168, 43)\n",
    "    \n",
    "    return logits"
   ]
  },
  {
   "cell_type": "code",
   "execution_count": 11,
   "metadata": {
    "collapsed": true,
    "deletable": true,
    "editable": true
   },
   "outputs": [],
   "source": [
    "x = tf.placeholder(tf.float32, (None, 32, 32, 1))\n",
    "y = tf.placeholder(tf.int32, (None))\n",
    "one_hot_y = tf.one_hot(y, 43)"
   ]
  },
  {
   "cell_type": "code",
   "execution_count": 12,
   "metadata": {
    "collapsed": false,
    "deletable": true,
    "editable": true,
    "scrolled": false
   },
   "outputs": [],
   "source": [
    "rate = 0.001\n",
    "\n",
    "logits = CNNet(x)\n",
    "cross_entropy = tf.nn.softmax_cross_entropy_with_logits(logits, one_hot_y)\n",
    "loss_operation = tf.reduce_mean(cross_entropy)\n",
    "optimizer = tf.train.AdamOptimizer(learning_rate = rate)\n",
    "training_operation = optimizer.minimize(loss_operation)"
   ]
  },
  {
   "cell_type": "markdown",
   "metadata": {
    "deletable": true,
    "editable": true
   },
   "source": [
    "### Train, Validate and Test the Model"
   ]
  },
  {
   "cell_type": "markdown",
   "metadata": {
    "deletable": true,
    "editable": true
   },
   "source": [
    "A validation set can be used to assess how well the model is performing. A low accuracy on the training and validation\n",
    "sets imply underfitting. A high accuracy on the training set but low accuracy on the validation set implies overfitting."
   ]
  },
  {
   "cell_type": "markdown",
   "metadata": {
    "deletable": true,
    "editable": true
   },
   "source": [
    "### Evaluate"
   ]
  },
  {
   "cell_type": "code",
   "execution_count": 13,
   "metadata": {
    "collapsed": false,
    "deletable": true,
    "editable": true
   },
   "outputs": [],
   "source": [
    "### Train your model here.\n",
    "### Calculate and report the accuracy on the training and validation set.\n",
    "### Once a final model architecture is selected, \n",
    "### the accuracy on the test set should be calculated and reported as well.\n",
    "### Feel free to use as many code cells as needed.\n",
    "predicted_values = tf.argmax(logits, 1)\n",
    "actual_values = tf.argmax(one_hot_y, 1)\n",
    "correct_prediction = tf.equal(tf.argmax(logits, 1), tf.argmax(one_hot_y, 1))\n",
    "accuracy_operation = tf.reduce_mean(tf.cast(correct_prediction, tf.float32))\n",
    "saver = tf.train.Saver()\n",
    "\n",
    "tp = np.zeros(43)\n",
    "fp = np.zeros(43)\n",
    "fn = np.zeros(43)\n",
    "\n",
    "def evaluate(X_data, y_data):\n",
    "    num_examples = len(X_data)\n",
    "    total_accuracy = 0\n",
    "    total_prediction = np.zeros(43)\n",
    "    total_actual = np.zeros(43)\n",
    "    sess = tf.get_default_session()\n",
    "    for offset in range(0, num_examples, BATCH_SIZE):\n",
    "        batch_x, batch_y = X_data[offset:offset+BATCH_SIZE], y_data[offset:offset+BATCH_SIZE]\n",
    "        prediction, actual, accuracy = sess.run([predicted_values, actual_values, accuracy_operation], feed_dict={x: batch_x, y: batch_y, keep_prob:1.0})\n",
    "        batch_prediction_count = np.bincount(prediction, minlength=43)\n",
    "        batch_actual_count = np.bincount(actual, minlength=43)\n",
    "        total_prediction += batch_prediction_count\n",
    "        total_actual += batch_actual_count\n",
    "        total_accuracy += (accuracy * len(batch_x))\n",
    "        for p, a in zip(prediction, actual):\n",
    "            if p == a:\n",
    "                tp[p] += 1\n",
    "            else:\n",
    "                fp[p] += 1\n",
    "                fn[a] += 1\n",
    "    \n",
    "    # 1 - Perfect match\n",
    "    # < 1 - Underfitting\n",
    "    # > 1 - Overfitting\n",
    "    match_percentage = np.round(np.abs(total_prediction/total_actual), decimals=3)\n",
    "    precision = np.round(tp/(tp+fp), decimals=3)\n",
    "    recall = np.round(tp/(tp+fn), decimals=3)\n",
    "    print(\"Match percentage: \", match_percentage)\n",
    "    print(\"Precision: \", precision)\n",
    "    print(\"Recall: \", recall)\n",
    "    return match_percentage, precision, recall, total_accuracy / num_examples\n",
    "\n",
    "def show_results(match_percentage, precision, recall):\n",
    "    op_format = \"{:7}{:50}{:>18}{:>10}{:>10}\"\n",
    "    print(op_format.format(\"S.No\", \"Name\", \"Match Percentage\", \"Precision\", \"Recall\"))\n",
    "    for i, (m, p, r) in enumerate(zip(match_percentage, precision, recall)):\n",
    "        print(op_format.format(str(i), y_names[i], m, p, r))"
   ]
  },
  {
   "cell_type": "markdown",
   "metadata": {
    "deletable": true,
    "editable": true
   },
   "source": [
    "### Training the model"
   ]
  },
  {
   "cell_type": "code",
   "execution_count": 14,
   "metadata": {
    "collapsed": false,
    "deletable": true,
    "editable": true
   },
   "outputs": [
    {
     "name": "stdout",
     "output_type": "stream",
     "text": [
      "Training...\n",
      "\n",
      "Match percentage:  [ 0.6    0.888  1.333  0.953  1.186  0.929  1.     0.833  0.787  0.92\n",
      "  1.195  1.24   1.019  0.992  1.044  1.     1.05   0.867  1.6    1.467\n",
      "  1.317  0.333  0.333  0.883  1.3    0.873  0.4    0.133  1.9    0.133  0.3\n",
      "  0.944  1.867  0.889  0.333  1.067  0.85   1.4    1.19   1.133  1.     0.967\n",
      "  0.467]\n",
      "Precision:  [ 0.778  0.887  0.666  0.874  0.779  0.774  0.867  0.8    0.737  0.928\n",
      "  0.837  0.737  0.935  0.975  0.84   0.889  0.937  0.942  0.568  0.659\n",
      "  0.506  0.45   1.     0.528  0.231  0.908  0.667  0.25   0.526  1.     0.667\n",
      "  0.882  0.518  0.988  0.95   0.922  0.922  0.667  0.792  0.882  0.833\n",
      "  0.655  0.929]\n",
      "Recall:  [ 0.467  0.788  0.888  0.833  0.924  0.719  0.867  0.667  0.58   0.853  1.\n",
      "  0.913  0.952  0.967  0.878  0.889  0.983  0.817  0.908  0.967  0.667\n",
      "  0.15   0.333  0.467  0.3    0.793  0.267  0.033  1.     0.133  0.2    0.833\n",
      "  0.967  0.878  0.317  0.983  0.783  0.933  0.943  1.     0.833  0.633\n",
      "  0.433]\n",
      "EPOCH 1 ...\n",
      "Validation Accuracy = 0.796\n",
      "\n",
      "Match percentage:  [ 0.4    1.133  1.079  1.127  1.319  0.833  0.55   0.733  0.827  1.087\n",
      "  1.095  1.307  0.962  1.033  1.189  1.078  0.533  0.758  0.958  1.133  1.4\n",
      "  0.033  0.633  1.033  0.733  0.933  1.233  0.1    1.033  0.733  0.65\n",
      "  1.267  1.     0.956  0.283  1.008  0.883  1.767  1.238  1.1    0.483  3.6\n",
      "  0.4  ]\n",
      "Precision:  [ 0.833  0.845  0.732  0.865  0.762  0.841  0.892  0.885  0.814  0.894\n",
      "  0.873  0.738  0.954  0.965  0.816  0.866  0.958  0.964  0.684  0.744\n",
      "  0.546  0.409  1.     0.539  0.295  0.908  0.694  0.571  0.676  0.846\n",
      "  0.877  0.819  0.616  0.958  0.946  0.944  0.952  0.611  0.792  0.896\n",
      "  0.865  0.343  0.962]\n",
      "Recall:  [ 0.417  0.854  0.883  0.9    0.955  0.74   0.692  0.693  0.657  0.897  1.\n",
      "  0.94   0.945  0.977  0.911  0.9    0.758  0.783  0.875  0.967  0.742\n",
      "  0.075  0.483  0.517  0.3    0.82   0.567  0.067  0.992  0.367  0.417\n",
      "  0.906  0.883  0.883  0.292  0.979  0.825  0.967  0.962  1.     0.642\n",
      "  0.783  0.417]\n",
      "EPOCH 2 ...\n",
      "Validation Accuracy = 0.837\n",
      "\n",
      "Match percentage:  [ 1.2    0.958  0.829  1.067  1.11   1.1    1.217  1.007  0.94   0.953\n",
      "  1.067  1.107  1.143  1.004  1.122  0.889  0.533  0.775  0.883  1.667\n",
      "  0.733  0.35   0.533  1.383  0.733  0.98   1.183  0.767  1.317  0.867\n",
      "  1.067  1.033  0.933  0.844  0.267  1.025  0.833  1.4    1.224  1.767\n",
      "  1.217  1.167  0.733]\n",
      "Precision:  [ 0.773  0.869  0.793  0.867  0.804  0.845  0.849  0.87   0.833  0.903\n",
      "  0.894  0.781  0.921  0.971  0.834  0.895  0.969  0.972  0.731  0.672\n",
      "  0.58   0.488  1.     0.52   0.458  0.911  0.74   0.467  0.702  0.827\n",
      "  0.835  0.842  0.675  0.971  0.962  0.952  0.961  0.642  0.797  0.75\n",
      "  0.802  0.43   0.938]\n",
      "Recall:  [ 0.567  0.862  0.857  0.909  0.968  0.806  0.783  0.747  0.709  0.891  1.\n",
      "  0.951  0.959  0.981  0.933  0.885  0.683  0.778  0.839  0.956  0.667\n",
      "  0.117  0.5    0.572  0.422  0.847  0.694  0.156  0.994  0.478  0.561\n",
      "  0.911  0.856  0.87   0.283  0.983  0.822  0.978  0.97   1.     0.722\n",
      "  0.822  0.5  ]\n",
      "EPOCH 3 ...\n",
      "Validation Accuracy = 0.868\n",
      "\n",
      "Match percentage:  [ 0.767  0.958  1.154  1.02   1.081  0.852  1.133  0.86   1.247  0.9    1.057\n",
      "  1.233  1.114  0.988  1.089  0.956  0.517  0.85   1.125  1.267  0.65   0.35\n",
      "  0.567  1.2    0.833  1.     0.9    0.5    1.083  1.067  1.05   1.211\n",
      "  1.033  0.978  0.567  1.042  0.833  1.1    1.195  1.     0.85   1.2    0.867]\n",
      "Precision:  [ 0.831  0.89   0.802  0.875  0.827  0.859  0.855  0.889  0.818  0.924\n",
      "  0.903  0.787  0.909  0.978  0.842  0.918  0.975  0.977  0.754  0.699\n",
      "  0.626  0.578  1.     0.559  0.546  0.908  0.758  0.489  0.747  0.845\n",
      "  0.826  0.83   0.71   0.973  0.943  0.952  0.971  0.694  0.806  0.8    0.845\n",
      "  0.486  0.959]\n",
      "Recall:  [ 0.617  0.876  0.881  0.912  0.97   0.798  0.833  0.763  0.777  0.892\n",
      "  0.996  0.962  0.963  0.982  0.936  0.9    0.642  0.794  0.86   0.967\n",
      "  0.642  0.154  0.517  0.629  0.492  0.86   0.704  0.183  0.996  0.592\n",
      "  0.633  0.925  0.858  0.892  0.342  0.985  0.825  0.983  0.976  1.     0.75\n",
      "  0.842  0.592]\n",
      "EPOCH 4 ...\n",
      "Validation Accuracy = 0.891\n",
      "\n",
      "Match percentage:  [ 0.567  0.929  1.129  1.     1.238  0.914  0.95   0.913  0.98   0.96\n",
      "  1.043  1.113  1.233  0.983  1.156  0.978  0.5    0.758  1.042  1.233\n",
      "  1.35   0.467  0.7    0.45   0.8    0.973  1.133  0.633  1.117  1.2    0.833\n",
      "  1.367  1.1    0.956  0.267  1.033  0.917  1.1    1.229  1.167  0.617\n",
      "  1.467  0.8  ]\n",
      "Precision:  [ 0.858  0.902  0.815  0.889  0.823  0.867  0.88   0.903  0.844  0.935\n",
      "  0.914  0.806  0.885  0.982  0.837  0.927  0.979  0.979  0.777  0.714\n",
      "  0.621  0.62   1.     0.576  0.598  0.905  0.77   0.594  0.773  0.808\n",
      "  0.855  0.805  0.742  0.969  0.951  0.955  0.977  0.724  0.807  0.811\n",
      "  0.868  0.508  0.969]\n",
      "Recall:  [ 0.607  0.878  0.901  0.919  0.976  0.803  0.853  0.785  0.807  0.901\n",
      "  0.997  0.967  0.969  0.982  0.938  0.909  0.613  0.785  0.872  0.967\n",
      "  0.677  0.19   0.553  0.57   0.527  0.861  0.747  0.253  0.997  0.647\n",
      "  0.667  0.938  0.88   0.896  0.327  0.988  0.843  0.98   0.981  1.     0.723\n",
      "  0.853  0.633]\n",
      "EPOCH 5 ...\n",
      "Validation Accuracy = 0.889\n",
      "\n",
      "Match percentage:  [ 0.867  0.979  1.15   0.94   1.076  0.929  1.     0.933  1.1    0.92\n",
      "  1.086  1.04   1.148  0.992  1.089  0.889  0.533  0.892  1.117  1.     0.85\n",
      "  0.733  0.583  1.017  0.867  1.113  1.183  0.267  1.     1.133  1.2    1.122\n",
      "  0.967  0.856  0.4    1.042  0.917  1.     1.224  1.     0.783  1.1    0.9  ]\n",
      "Precision:  [ 0.886  0.912  0.821  0.901  0.838  0.87   0.897  0.912  0.854  0.941\n",
      "  0.915  0.828  0.88   0.985  0.846  0.937  0.982  0.98   0.789  0.725\n",
      "  0.64   0.632  1.     0.592  0.652  0.893  0.779  0.639  0.799  0.799\n",
      "  0.84   0.808  0.763  0.974  0.961  0.954  0.975  0.755  0.808  0.837\n",
      "  0.882  0.544  0.96 ]\n",
      "Recall:  [ 0.65   0.888  0.914  0.917  0.979  0.806  0.875  0.802  0.837  0.9    0.998\n",
      "  0.971  0.971  0.983  0.943  0.904  0.6    0.8    0.885  0.939  0.672\n",
      "  0.239  0.558  0.589  0.572  0.874  0.783  0.256  0.992  0.683  0.714\n",
      "  0.935  0.878  0.889  0.339  0.989  0.85   0.978  0.983  1.     0.728\n",
      "  0.861  0.667]\n",
      "EPOCH 6 ...\n",
      "Validation Accuracy = 0.903\n",
      "\n",
      "Match percentage:  [ 0.733  1.021  0.979  1.073  1.129  0.957  1.     0.887  1.073  0.953\n",
      "  1.019  1.347  1.157  0.992  1.222  0.989  0.517  0.8    1.092  1.133\n",
      "  0.717  0.35   0.667  0.883  0.9    0.927  1.167  0.733  1.117  1.5    0.883\n",
      "  1.089  1.333  0.944  0.6    1.033  0.917  0.967  1.157  1.     0.817\n",
      "  0.333  1.5  ]\n",
      "Precision:  [ 0.903  0.912  0.837  0.902  0.845  0.883  0.905  0.921  0.86   0.949\n",
      "  0.923  0.814  0.874  0.987  0.84   0.943  0.984  0.981  0.803  0.742\n",
      "  0.66   0.669  1.     0.625  0.686  0.897  0.787  0.628  0.811  0.764\n",
      "  0.83   0.82   0.753  0.976  0.951  0.956  0.976  0.782  0.814  0.857\n",
      "  0.896  0.559  0.882]\n",
      "Recall:  [ 0.662  0.895  0.915  0.925  0.982  0.822  0.886  0.811  0.854  0.908\n",
      "  0.997  0.975  0.971  0.985  0.949  0.913  0.588  0.799  0.896  0.943\n",
      "  0.662  0.25   0.574  0.612  0.605  0.871  0.81   0.281  0.993  0.724\n",
      "  0.71   0.941  0.886  0.895  0.369  0.99   0.857  0.976  0.984  1.     0.738\n",
      "  0.786  0.714]\n",
      "EPOCH 7 ...\n",
      "Validation Accuracy = 0.905\n",
      "\n",
      "Match percentage:  [ 0.867  0.971  1.05   1.007  1.071  0.99   1.05   0.893  1.093  0.947\n",
      "  1.043  1.053  1.081  1.021  1.122  0.956  0.9    0.85   0.942  1.133\n",
      "  0.533  0.967  0.667  1.733  0.8    0.94   1.433  0.3    1.167  1.133\n",
      "  1.033  0.922  1.1    0.889  0.4    1.042  0.867  0.833  1.233  1.     0.7\n",
      "  1.1    0.9  ]\n",
      "Precision:  [ 0.906  0.918  0.847  0.91   0.854  0.889  0.911  0.928  0.867  0.955\n",
      "  0.928  0.828  0.879  0.985  0.84   0.948  0.987  0.982  0.812  0.751\n",
      "  0.68   0.688  1.     0.604  0.722  0.902  0.766  0.66   0.817  0.76\n",
      "  0.841  0.835  0.761  0.977  0.957  0.957  0.979  0.801  0.813  0.873\n",
      "  0.905  0.585  0.898]\n",
      "Recall:  [ 0.679  0.899  0.921  0.931  0.983  0.834  0.9    0.819  0.872  0.912\n",
      "  0.998  0.978  0.973  0.985  0.949  0.917  0.627  0.804  0.889  0.942\n",
      "  0.642  0.308  0.585  0.648  0.629  0.872  0.827  0.283  0.994  0.738\n",
      "  0.738  0.935  0.888  0.893  0.373  0.992  0.858  0.958  0.985  1.     0.731\n",
      "  0.8    0.738]\n",
      "EPOCH 8 ...\n",
      "Validation Accuracy = 0.915\n",
      "\n",
      "Match percentage:  [ 0.733  0.958  1.104  1.033  1.143  0.81   0.933  0.907  1.107  0.953\n",
      "  1.029  1.     1.129  0.996  1.222  0.967  0.567  0.783  0.908  1.2    0.717\n",
      "  0.65   0.717  1.2    0.9    1.14   1.2    0.733  1.05   1.467  1.067\n",
      "  0.944  1.033  1.033  0.317  1.058  0.867  0.833  1.3    1.2    0.833  1.3\n",
      "  0.833]\n",
      "Precision:  [ 0.916  0.921  0.85   0.916  0.856  0.899  0.921  0.933  0.869  0.96\n",
      "  0.932  0.84   0.877  0.986  0.834  0.949  0.988  0.983  0.827  0.76\n",
      "  0.696  0.709  0.997  0.617  0.733  0.89   0.771  0.704  0.83   0.736\n",
      "  0.847  0.848  0.775  0.973  0.961  0.955  0.981  0.817  0.808  0.868\n",
      "  0.913  0.599  0.91 ]\n",
      "Recall:  [ 0.685  0.9    0.926  0.939  0.985  0.83   0.904  0.826  0.884  0.917\n",
      "  0.998  0.974  0.973  0.986  0.951  0.917  0.62   0.801  0.888  0.948\n",
      "  0.639  0.333  0.598  0.67   0.641  0.879  0.843  0.326  0.994  0.756\n",
      "  0.761  0.933  0.893  0.902  0.367  0.993  0.859  0.944  0.987  1.     0.741\n",
      "  0.815  0.748]\n",
      "EPOCH 9 ...\n",
      "Validation Accuracy = 0.908\n",
      "\n",
      "Match percentage:  [ 0.6    0.992  1.075  0.973  1.095  0.91   0.967  1.02   1.013  0.953\n",
      "  1.052  1.04   1.152  1.     1.3    0.944  0.567  0.783  1.092  0.9    0.917\n",
      "  0.667  0.7    1.117  0.533  0.98   1.2    0.767  1.2    1.167  0.967\n",
      "  1.122  1.167  1.033  0.6    1.092  1.     0.767  1.143  1.     0.733\n",
      "  0.933  0.933]\n",
      "Precision:  [ 0.923  0.926  0.856  0.923  0.862  0.905  0.929  0.93   0.874  0.964\n",
      "  0.934  0.85   0.875  0.987  0.827  0.952  0.987  0.984  0.834  0.775\n",
      "  0.71   0.728  0.997  0.63   0.75   0.895  0.775  0.723  0.83   0.74\n",
      "  0.858  0.849  0.78   0.969  0.963  0.951  0.981  0.83   0.814  0.88\n",
      "  0.921  0.623  0.916]\n",
      "Recall:  [ 0.677  0.906  0.931  0.941  0.987  0.835  0.91   0.835  0.889  0.921\n",
      "  0.998  0.975  0.975  0.987  0.956  0.918  0.613  0.798  0.898  0.94\n",
      "  0.652  0.357  0.608  0.687  0.63   0.882  0.855  0.357  0.995  0.77\n",
      "  0.777  0.936  0.9    0.909  0.388  0.993  0.872  0.927  0.988  1.     0.74\n",
      "  0.82   0.763]\n",
      "EPOCH 10 ...\n",
      "Validation Accuracy = 0.922\n",
      "\n",
      "Match percentage:  [ 0.933  0.983  1.004  0.973  1.114  1.01   0.933  0.833  1.113  0.947\n",
      "  1.019  1.033  1.176  0.992  1.244  0.967  0.533  0.75   1.183  1.067  0.8\n",
      "  0.467  0.767  1.3    0.9    0.913  1.1    0.4    1.083  1.333  0.9    1.2\n",
      "  1.933  0.989  0.75   1.033  1.     1.1    1.057  1.1    0.967  0.533  0.9  ]\n",
      "Precision:  [ 0.923  0.928  0.864  0.928  0.865  0.905  0.933  0.935  0.875  0.968\n",
      "  0.937  0.859  0.872  0.987  0.823  0.954  0.988  0.985  0.834  0.788\n",
      "  0.728  0.745  0.998  0.637  0.76   0.902  0.784  0.738  0.838  0.736\n",
      "  0.869  0.845  0.743  0.966  0.965  0.953  0.981  0.837  0.823  0.882\n",
      "  0.92   0.633  0.924]\n",
      "Recall:  [ 0.694  0.909  0.934  0.942  0.988  0.842  0.911  0.835  0.898  0.923\n",
      "  0.997  0.977  0.976  0.987  0.958  0.92   0.606  0.794  0.905  0.945\n",
      "  0.661  0.364  0.623  0.706  0.642  0.884  0.865  0.358  0.995  0.785\n",
      "  0.786  0.939  0.909  0.91   0.42   0.994  0.882  0.933  0.987  1.     0.753\n",
      "  0.788  0.776]\n",
      "EPOCH 11 ...\n",
      "Validation Accuracy = 0.921\n",
      "\n",
      "Match percentage:  [ 0.5    0.971  1.071  0.993  1.248  0.9    0.967  0.913  0.913  0.967\n",
      "  1.019  1.107  1.348  0.996  0.922  1.033  0.5    0.9    1.008  0.967  0.7\n",
      "  0.417  0.7    1.117  0.667  0.927  1.133  1.167  1.033  1.467  1.033\n",
      "  1.278  2.2    0.967  0.383  1.1    1.     0.8    1.205  1.333  0.417  0.\n",
      "  1.033]\n",
      "Precision:  [ 0.928  0.929  0.867  0.933  0.859  0.909  0.939  0.938  0.878  0.97   0.94\n",
      "  0.862  0.859  0.988  0.834  0.955  0.989  0.984  0.842  0.802  0.741\n",
      "  0.758  0.998  0.651  0.776  0.905  0.79   0.708  0.848  0.73   0.873\n",
      "  0.838  0.702  0.966  0.968  0.949  0.983  0.842  0.822  0.87   0.922\n",
      "  0.633  0.929]\n",
      "Recall:  [ 0.678  0.909  0.936  0.945  0.989  0.843  0.915  0.839  0.892  0.927\n",
      "  0.997  0.979  0.978  0.987  0.954  0.927  0.597  0.801  0.908  0.947\n",
      "  0.66   0.365  0.629  0.722  0.644  0.883  0.874  0.383  0.996  0.803\n",
      "  0.799  0.943  0.917  0.912  0.417  0.994  0.892  0.917  0.986  1.     0.724\n",
      "  0.722  0.794]\n",
      "EPOCH 12 ...\n",
      "Validation Accuracy = 0.900\n",
      "\n",
      "Match percentage:  [ 0.933  1.008  1.108  0.973  1.014  0.929  0.967  0.953  1.06   0.96\n",
      "  1.033  1.093  1.029  1.017  1.     0.944  0.733  1.     0.967  0.933  1.\n",
      "  0.65   0.9    1.133  1.1    1.027  1.083  0.633  1.067  0.633  0.917\n",
      "  1.156  1.1    0.967  0.6    1.058  1.     0.9    1.148  1.     0.65\n",
      "  1.467  1.133]\n",
      "Precision:  [ 0.935  0.932  0.869  0.937  0.868  0.913  0.943  0.941  0.882  0.973\n",
      "  0.943  0.866  0.866  0.988  0.845  0.958  0.99   0.985  0.851  0.815\n",
      "  0.748  0.772  0.994  0.655  0.78   0.906  0.799  0.71   0.854  0.735\n",
      "  0.878  0.837  0.712  0.967  0.968  0.949  0.985  0.85   0.825  0.878\n",
      "  0.924  0.631  0.924]\n",
      "Recall:  [ 0.697  0.914  0.941  0.946  0.99   0.847  0.919  0.846  0.899  0.929\n",
      "  0.997  0.981  0.979  0.988  0.956  0.927  0.608  0.815  0.911  0.946\n",
      "  0.672  0.382  0.647  0.728  0.664  0.887  0.882  0.39   0.996  0.782\n",
      "  0.804  0.944  0.918  0.915  0.429  0.995  0.9    0.913  0.986  1.     0.715\n",
      "  0.736  0.81 ]\n",
      "EPOCH 13 ...\n",
      "Validation Accuracy = 0.939\n",
      "\n",
      "Match percentage:  [ 1.1    1.3    0.792  1.1    1.019  0.871  0.95   1.093  0.927  0.94   1.01\n",
      "  1.04   0.99   0.996  1.     1.033  1.05   0.958  1.075  1.167  0.933\n",
      "  0.683  0.8    1.05   1.167  1.067  1.     0.6    1.05   1.467  0.85\n",
      "  0.989  1.633  0.956  0.967  1.1    1.017  1.033  1.029  1.     0.583\n",
      "  0.433  1.1  ]\n",
      "Precision:  [ 0.926  0.916  0.874  0.933  0.875  0.918  0.947  0.934  0.887  0.975\n",
      "  0.946  0.872  0.875  0.988  0.854  0.958  0.985  0.985  0.855  0.814\n",
      "  0.758  0.778  0.993  0.668  0.774  0.906  0.811  0.728  0.86   0.725\n",
      "  0.882  0.844  0.701  0.966  0.965  0.946  0.984  0.851  0.833  0.886\n",
      "  0.926  0.641  0.923]\n",
      "Recall:  [ 0.714  0.919  0.928  0.948  0.99   0.848  0.921  0.853  0.898  0.93\n",
      "  0.998  0.981  0.98   0.988  0.959  0.932  0.636  0.825  0.915  0.945\n",
      "  0.683  0.395  0.657  0.739  0.676  0.893  0.889  0.402  0.996  0.793\n",
      "  0.804  0.944  0.921  0.915  0.464  0.995  0.907  0.912  0.986  1.     0.705\n",
      "  0.714  0.824]\n",
      "EPOCH 14 ...\n",
      "Validation Accuracy = 0.928\n",
      "\n",
      "Match percentage:  [ 0.9    0.954  1.075  0.927  1.038  0.938  0.983  1.407  0.627  1.013\n",
      "  1.043  1.133  1.067  0.996  1.     1.022  0.567  0.983  0.992  1.3    0.967\n",
      "  0.633  0.733  1.383  0.933  1.013  1.067  0.733  1.05   0.533  1.067\n",
      "  1.067  1.067  0.933  0.7    1.     0.983  1.033  1.071  1.033  0.917  1.4\n",
      "  1.1  ]\n",
      "Precision:  [ 0.932  0.921  0.877  0.937  0.88   0.92   0.951  0.911  0.89   0.974\n",
      "  0.947  0.872  0.879  0.989  0.862  0.958  0.986  0.986  0.861  0.81\n",
      "  0.764  0.791  0.993  0.666  0.785  0.907  0.818  0.728  0.866  0.726\n",
      "  0.883  0.848  0.712  0.968  0.969  0.948  0.986  0.859  0.837  0.891\n",
      "  0.927  0.641  0.922]\n",
      "Recall:  [ 0.727  0.921  0.932  0.947  0.99   0.851  0.926  0.861  0.878  0.933\n",
      "  0.998  0.982  0.981  0.989  0.961  0.936  0.631  0.835  0.918  0.949\n",
      "  0.692  0.409  0.662  0.75   0.689  0.895  0.896  0.411  0.997  0.767\n",
      "  0.813  0.944  0.924  0.916  0.48   0.994  0.912  0.918  0.985  1.     0.714\n",
      "  0.727  0.836]\n",
      "EPOCH 15 ...\n",
      "Validation Accuracy = 0.928\n",
      "\n",
      "Match percentage:  [ 0.7    0.954  0.962  0.88   1.1    1.171  1.     0.927  1.06   1.033\n",
      "  1.071  0.993  1.014  0.996  1.     1.011  0.5    0.992  1.042  1.1    0.8\n",
      "  0.483  0.883  1.2    0.667  0.933  1.15   0.667  1.083  0.733  1.483\n",
      "  0.989  1.067  0.867  0.5    1.033  0.983  0.833  1.238  1.133  0.817\n",
      "  1.867  1.   ]\n",
      "Precision:  [ 0.935  0.925  0.883  0.938  0.882  0.914  0.954  0.915  0.892  0.972\n",
      "  0.946  0.878  0.885  0.99   0.869  0.96   0.987  0.986  0.864  0.804\n",
      "  0.772  0.8    0.994  0.673  0.795  0.909  0.82   0.741  0.869  0.724\n",
      "  0.862  0.853  0.721  0.969  0.971  0.949  0.987  0.866  0.835  0.891\n",
      "  0.929  0.624  0.927]\n",
      "Recall:  [ 0.725  0.923  0.933  0.941  0.991  0.859  0.93   0.865  0.885  0.936\n",
      "  0.998  0.981  0.982  0.989  0.962  0.939  0.623  0.844  0.92   0.938\n",
      "  0.694  0.411  0.676  0.76   0.688  0.895  0.9    0.423  0.997  0.75\n",
      "  0.824  0.944  0.925  0.912  0.481  0.994  0.917  0.912  0.986  1.     0.719\n",
      "  0.735  0.846]\n",
      "EPOCH 16 ...\n",
      "Validation Accuracy = 0.926\n",
      "\n",
      "Match percentage:  [ 0.833  0.996  0.946  0.94   1.081  1.052  0.65   1.1    0.933  0.933\n",
      "  1.048  1.093  1.076  0.996  1.344  1.011  0.75   0.817  1.058  1.133\n",
      "  1.017  0.483  0.667  1.133  0.733  1.     1.217  0.7    1.05   0.633\n",
      "  1.033  1.167  2.767  0.956  0.683  1.05   0.967  0.967  1.105  1.1    0.783\n",
      "  0.467  0.633]\n",
      "Precision:  [ 0.94   0.928  0.889  0.941  0.884  0.914  0.956  0.913  0.896  0.974\n",
      "  0.946  0.879  0.887  0.99   0.86   0.961  0.985  0.987  0.867  0.806\n",
      "  0.774  0.811  0.994  0.678  0.801  0.91   0.816  0.759  0.874  0.729\n",
      "  0.867  0.852  0.678  0.969  0.973  0.949  0.987  0.873  0.839  0.892\n",
      "  0.929  0.612  0.93 ]\n",
      "Recall:  [ 0.731  0.926  0.933  0.94   0.991  0.866  0.914  0.871  0.885  0.936\n",
      "  0.998  0.981  0.982  0.99   0.964  0.942  0.628  0.843  0.922  0.939\n",
      "  0.701  0.416  0.675  0.767  0.686  0.896  0.902  0.439  0.997  0.737\n",
      "  0.833  0.945  0.929  0.913  0.493  0.995  0.92   0.916  0.986  1.     0.72\n",
      "  0.696  0.833]\n",
      "EPOCH 17 ...\n",
      "Validation Accuracy = 0.919\n",
      "\n",
      "Match percentage:  [ 0.933  1.004  1.008  0.913  1.029  1.024  1.     0.967  1.013  0.98\n",
      "  1.019  1.067  1.024  0.996  1.067  1.033  1.     0.867  1.017  1.033\n",
      "  0.983  0.3    0.9    0.933  1.067  0.96   1.083  0.533  1.15   1.167\n",
      "  1.067  1.311  1.067  1.056  0.55   1.067  1.017  1.033  1.167  1.     0.85\n",
      "  1.067  0.833]\n",
      "Precision:  [ 0.944  0.93   0.893  0.944  0.889  0.915  0.958  0.917  0.899  0.975\n",
      "  0.948  0.882  0.891  0.991  0.863  0.962  0.986  0.987  0.871  0.813\n",
      "  0.78   0.817  0.995  0.69   0.802  0.913  0.821  0.772  0.873  0.735\n",
      "  0.871  0.845  0.688  0.965  0.975  0.948  0.987  0.878  0.84   0.897\n",
      "  0.927  0.624  0.934]\n",
      "Recall:  [ 0.743  0.928  0.935  0.938  0.992  0.871  0.919  0.876  0.89   0.939\n",
      "  0.998  0.982  0.983  0.99   0.965  0.946  0.649  0.844  0.924  0.941\n",
      "  0.71   0.409  0.688  0.772  0.696  0.898  0.906  0.444  0.997  0.75\n",
      "  0.842  0.948  0.931  0.915  0.496  0.995  0.924  0.92   0.987  1.     0.722\n",
      "  0.707  0.833]\n",
      "EPOCH 18 ...\n",
      "Validation Accuracy = 0.947\n",
      "\n",
      "Match percentage:  [ 0.9    0.996  1.096  0.98   1.205  0.957  1.     0.92   0.8    0.993\n",
      "  1.01   1.073  1.     0.996  0.822  1.044  1.     1.075  1.175  1.1    1.033\n",
      "  0.617  0.65   1.     0.833  0.84   1.     1.4    1.     1.333  0.867\n",
      "  1.178  1.3    0.956  0.433  1.042  1.     1.     1.19   1.     0.883  0.8\n",
      "  0.933]\n",
      "Precision:  [ 0.945  0.932  0.893  0.945  0.885  0.914  0.961  0.92   0.902  0.976\n",
      "  0.95   0.884  0.896  0.991  0.868  0.961  0.987  0.983  0.869  0.816\n",
      "  0.785  0.822  0.995  0.698  0.812  0.916  0.827  0.739  0.879  0.733\n",
      "  0.876  0.844  0.692  0.967  0.976  0.949  0.988  0.884  0.839  0.902\n",
      "  0.93   0.635  0.937]\n",
      "Recall:  [ 0.749  0.93   0.937  0.939  0.992  0.87   0.923  0.876  0.884  0.941\n",
      "  0.998  0.983  0.983  0.99   0.957  0.949  0.668  0.852  0.928  0.942\n",
      "  0.719  0.417  0.686  0.777  0.704  0.894  0.908  0.458  0.996  0.76\n",
      "  0.842  0.949  0.935  0.917  0.493  0.995  0.928  0.925  0.987  1.     0.729\n",
      "  0.709  0.839]\n",
      "EPOCH 19 ...\n",
      "Validation Accuracy = 0.929\n",
      "\n",
      "Match percentage:  [ 1.2    0.95   0.946  1.033  1.09   1.1    0.917  0.993  0.933  0.987\n",
      "  1.014  1.14   1.005  0.996  1.     0.989  1.     0.942  1.175  1.067  0.9\n",
      "  0.733  0.567  1.267  1.033  0.86   0.967  0.6    1.317  1.767  0.817\n",
      "  1.022  1.5    0.967  0.65   1.175  1.017  1.067  1.01   0.733  0.75\n",
      "  0.633  1.1  ]\n",
      "Precision:  [ 0.932  0.933  0.896  0.943  0.887  0.913  0.963  0.921  0.905  0.978\n",
      "  0.951  0.882  0.9    0.992  0.872  0.963  0.988  0.984  0.868  0.819\n",
      "  0.792  0.826  0.995  0.699  0.815  0.916  0.834  0.747  0.872  0.717\n",
      "  0.879  0.849  0.691  0.967  0.976  0.944  0.988  0.887  0.843  0.905\n",
      "  0.933  0.646  0.936]\n",
      "Recall:  [ 0.758  0.929  0.936  0.939  0.992  0.876  0.922  0.88   0.884  0.943\n",
      "  0.998  0.982  0.984  0.991  0.957  0.95   0.684  0.856  0.93   0.942\n",
      "  0.725  0.428  0.68   0.783  0.713  0.888  0.911  0.462  0.997  0.77\n",
      "  0.839  0.95   0.938  0.918  0.5    0.995  0.932  0.928  0.984  0.987\n",
      "  0.73   0.705  0.847]\n",
      "EPOCH 20 ...\n",
      "Validation Accuracy = 0.927\n",
      "\n",
      "Match percentage:  [ 0.767  0.988  1.033  0.953  1.067  1.043  0.967  0.973  0.94   0.953\n",
      "  1.033  1.127  1.029  0.996  0.978  1.     0.75   1.017  1.083  1.033  0.9\n",
      "  0.7    0.783  1.     0.9    1.053  1.133  0.667  1.167  1.167  0.9    0.956\n",
      "  1.267  0.956  0.5    1.092  1.     0.967  1.148  1.067  0.9    0.967  1.   ]\n",
      "Precision:  [ 0.935  0.936  0.899  0.946  0.889  0.913  0.964  0.922  0.908  0.978\n",
      "  0.952  0.882  0.903  0.992  0.877  0.965  0.989  0.983  0.869  0.824\n",
      "  0.794  0.831  0.995  0.705  0.812  0.912  0.837  0.754  0.871  0.72\n",
      "  0.882  0.854  0.694  0.968  0.977  0.942  0.988  0.89   0.843  0.907\n",
      "  0.931  0.652  0.939]\n",
      "Recall:  [ 0.759  0.931  0.939  0.939  0.993  0.879  0.925  0.881  0.886  0.943\n",
      "  0.998  0.982  0.984  0.991  0.958  0.952  0.687  0.862  0.933  0.943\n",
      "  0.727  0.438  0.685  0.787  0.711  0.889  0.915  0.468  0.997  0.776\n",
      "  0.839  0.949  0.94   0.92   0.5    0.996  0.935  0.929  0.984  0.987\n",
      "  0.733  0.708  0.854]\n",
      "EPOCH 21 ...\n",
      "Validation Accuracy = 0.937\n",
      "\n",
      "Match percentage:  [ 0.367  0.879  1.067  0.94   1.281  0.929  1.     0.973  0.987  0.947\n",
      "  1.043  1.427  1.086  0.996  1.     1.033  0.983  1.     0.983  1.267\n",
      "  0.867  0.467  0.717  1.     0.833  1.033  1.     0.233  1.017  1.067\n",
      "  0.967  1.078  1.2    0.789  0.483  1.175  0.933  0.9    1.11   1.2    0.883\n",
      "  0.733  1.033]\n",
      "Precision:  [ 0.935  0.938  0.901  0.948  0.883  0.915  0.966  0.925  0.91   0.979\n",
      "  0.952  0.872  0.903  0.992  0.882  0.965  0.988  0.983  0.872  0.822\n",
      "  0.799  0.832  0.996  0.713  0.818  0.911  0.843  0.759  0.876  0.729\n",
      "  0.884  0.857  0.697  0.969  0.978  0.938  0.989  0.895  0.845  0.903\n",
      "  0.93   0.663  0.94 ]\n",
      "Recall:  [ 0.739  0.928  0.941  0.939  0.993  0.879  0.928  0.885  0.888  0.944\n",
      "  0.998  0.983  0.985  0.991  0.959  0.955  0.7    0.868  0.933  0.945\n",
      "  0.73   0.436  0.686  0.791  0.715  0.89   0.918  0.458  0.997  0.785\n",
      "  0.842  0.951  0.939  0.914  0.499  0.996  0.935  0.927  0.983  0.988\n",
      "  0.737  0.709  0.861]\n",
      "EPOCH 22 ...\n",
      "Validation Accuracy = 0.925\n",
      "\n",
      "Match percentage:  [ 0.6    1.083  0.954  0.98   1.086  1.1    0.983  0.9    0.953  0.973  1.\n",
      "  1.207  1.014  1.046  0.978  1.     0.617  0.992  1.117  1.067  0.733\n",
      "  0.433  0.75   1.083  0.8    0.927  1.35   0.367  1.283  1.1    1.083\n",
      "  1.067  1.2    0.7    0.35   1.033  1.     1.167  1.21   1.1    1.167\n",
      "  0.867  1.033]\n",
      "Precision:  [ 0.933  0.935  0.903  0.949  0.885  0.912  0.968  0.928  0.913  0.98\n",
      "  0.954  0.87   0.906  0.991  0.886  0.965  0.989  0.983  0.873  0.827\n",
      "  0.805  0.833  0.996  0.718  0.814  0.913  0.837  0.765  0.871  0.726\n",
      "  0.882  0.859  0.703  0.97   0.978  0.939  0.989  0.893  0.844  0.903\n",
      "  0.917  0.673  0.942]\n",
      "Recall:  [ 0.73   0.929  0.94   0.94   0.993  0.883  0.93   0.885  0.89   0.945\n",
      "  0.997  0.983  0.985  0.991  0.959  0.956  0.696  0.872  0.935  0.948\n",
      "  0.728  0.433  0.689  0.796  0.709  0.89   0.922  0.454  0.997  0.783\n",
      "  0.845  0.952  0.942  0.904  0.493  0.996  0.938  0.93   0.984  0.988\n",
      "  0.741  0.714  0.867]\n",
      "EPOCH 23 ...\n",
      "Validation Accuracy = 0.919\n",
      "\n",
      "Match percentage:  [ 0.8    0.992  0.967  1.     1.048  1.     1.017  1.013  1.033  0.98\n",
      "  1.062  1.087  1.019  0.996  0.978  1.011  0.95   1.008  0.9    0.967  1.1\n",
      "  0.617  0.767  0.783  0.4    1.06   1.4    0.533  1.05   1.5    1.133\n",
      "  1.044  1.067  0.9    0.783  1.092  1.     1.133  1.076  1.     0.883  0.9\n",
      "  1.   ]\n",
      "Precision:  [ 0.936  0.937  0.907  0.951  0.887  0.915  0.968  0.93   0.915  0.981\n",
      "  0.953  0.87   0.909  0.991  0.89   0.966  0.989  0.983  0.877  0.832\n",
      "  0.803  0.84   0.996  0.724  0.817  0.912  0.83   0.774  0.874  0.722\n",
      "  0.882  0.861  0.71   0.972  0.978  0.938  0.99   0.891  0.847  0.907\n",
      "  0.918  0.685  0.944]\n",
      "Recall:  [ 0.733  0.931  0.941  0.942  0.993  0.887  0.933  0.889  0.894  0.946\n",
      "  0.997  0.983  0.985  0.991  0.96   0.957  0.707  0.877  0.933  0.947\n",
      "  0.733  0.44   0.692  0.793  0.696  0.892  0.924  0.457  0.997  0.792\n",
      "  0.851  0.951  0.943  0.904  0.504  0.996  0.94   0.932  0.985  0.989\n",
      "  0.745  0.722  0.872]\n",
      "EPOCH 24 ...\n",
      "Validation Accuracy = 0.951\n",
      "\n",
      "Match percentage:  [ 0.833  0.95   1.033  0.973  1.1    0.981  1.     1.013  0.967  0.987\n",
      "  1.019  1.033  1.019  0.996  0.978  1.022  0.533  1.017  1.083  1.067\n",
      "  0.867  0.6    0.85   0.967  0.567  0.993  1.367  0.6    1.     1.3    1.1\n",
      "  1.133  1.133  0.889  0.95   1.033  1.     1.1    1.029  1.033  1.233\n",
      "  1.133  1.   ]\n",
      "Precision:  [ 0.937  0.939  0.908  0.952  0.888  0.917  0.97   0.931  0.918  0.982\n",
      "  0.954  0.873  0.911  0.991  0.893  0.966  0.99   0.983  0.877  0.836\n",
      "  0.809  0.847  0.996  0.733  0.819  0.914  0.826  0.783  0.878  0.725\n",
      "  0.883  0.861  0.715  0.973  0.979  0.939  0.99   0.892  0.851  0.909\n",
      "  0.905  0.69   0.947]\n",
      "Recall:  [ 0.736  0.932  0.943  0.943  0.994  0.889  0.936  0.893  0.897  0.948\n",
      "  0.997  0.982  0.986  0.992  0.96   0.959  0.7    0.882  0.934  0.949\n",
      "  0.737  0.447  0.699  0.799  0.688  0.895  0.927  0.463  0.997  0.8    0.857\n",
      "  0.953  0.945  0.904  0.521  0.996  0.943  0.935  0.985  0.989  0.75\n",
      "  0.729  0.877]\n",
      "EPOCH 25 ...\n",
      "Validation Accuracy = 0.954\n",
      "\n",
      "Match percentage:  [ 0.833  0.979  0.983  0.973  1.052  1.019  1.     0.973  1.02   0.993\n",
      "  1.019  1.22   1.019  0.992  1.011  1.044  0.9    1.     0.975  1.067\n",
      "  0.833  0.65   0.85   1.     0.9    0.98   1.017  0.6    1.033  1.067\n",
      "  1.067  1.111  1.1    0.933  0.783  1.033  1.017  1.     1.076  1.     1.05\n",
      "  0.9    1.067]\n",
      "Precision:  [ 0.94   0.941  0.911  0.954  0.891  0.919  0.971  0.934  0.92   0.982\n",
      "  0.955  0.871  0.914  0.992  0.896  0.966  0.99   0.983  0.881  0.838\n",
      "  0.816  0.852  0.996  0.739  0.825  0.916  0.83   0.792  0.882  0.728\n",
      "  0.884  0.862  0.722  0.974  0.979  0.94   0.99   0.896  0.854  0.913\n",
      "  0.903  0.7    0.946]\n",
      "Recall:  [ 0.74   0.933  0.944  0.944  0.994  0.892  0.938  0.896  0.9    0.949\n",
      "  0.997  0.983  0.986  0.992  0.961  0.96   0.708  0.886  0.935  0.95\n",
      "  0.741  0.453  0.704  0.803  0.695  0.896  0.929  0.468  0.997  0.803\n",
      "  0.862  0.954  0.947  0.905  0.531  0.996  0.945  0.937  0.985  0.99\n",
      "  0.756  0.736  0.882]\n",
      "EPOCH 26 ...\n",
      "Validation Accuracy = 0.962\n",
      "\n",
      "Match percentage:  [ 0.7    0.971  1.012  0.947  1.09   0.976  0.983  1.06   0.953  0.96\n",
      "  1.029  1.053  1.138  0.988  1.033  1.     0.5    0.967  1.042  1.033\n",
      "  0.783  0.717  0.733  0.817  0.6    1.2    1.2    0.633  1.05   1.1    1.05\n",
      "  1.011  1.3    0.9    0.867  1.025  0.967  1.167  1.043  1.3    1.2    1.\n",
      "  0.9  ]\n",
      "Precision:  [ 0.94   0.943  0.914  0.956  0.891  0.921  0.972  0.933  0.921  0.983\n",
      "  0.956  0.873  0.912  0.992  0.899  0.967  0.99   0.984  0.882  0.843\n",
      "  0.82   0.857  0.997  0.745  0.83   0.911  0.83   0.798  0.884  0.732\n",
      "  0.886  0.865  0.722  0.975  0.979  0.941  0.99   0.894  0.857  0.906\n",
      "  0.895  0.706  0.948]\n",
      "Recall:  [ 0.737  0.934  0.946  0.944  0.994  0.895  0.94   0.899  0.901  0.95\n",
      "  0.998  0.984  0.986  0.991  0.962  0.961  0.7    0.889  0.936  0.952\n",
      "  0.741  0.462  0.706  0.802  0.691  0.899  0.931  0.473  0.998  0.807\n",
      "  0.866  0.954  0.948  0.905  0.543  0.996  0.946  0.94   0.986  0.99\n",
      "  0.761  0.741  0.883]\n",
      "EPOCH 27 ...\n",
      "Validation Accuracy = 0.945\n",
      "\n",
      "Match percentage:  [ 1.033  1.008  1.1    0.987  1.081  1.029  1.017  0.92   0.953  0.973\n",
      "  1.033  1.013  1.029  1.     0.967  1.     0.9    0.967  0.925  1.     0.867\n",
      "  0.667  0.85   1.133  0.967  1.053  1.167  0.833  1.083  0.833  1.     1.133\n",
      "  1.3    0.933  0.55   1.008  0.967  1.2    1.2    1.067  0.5    0.8    0.9  ]\n",
      "Precision:  [ 0.94   0.943  0.913  0.955  0.893  0.92   0.972  0.935  0.924  0.983\n",
      "  0.956  0.877  0.914  0.992  0.9    0.967  0.991  0.984  0.886  0.848\n",
      "  0.825  0.862  0.997  0.748  0.828  0.911  0.831  0.808  0.885  0.736\n",
      "  0.89   0.865  0.724  0.976  0.979  0.942  0.991  0.892  0.856  0.907\n",
      "  0.896  0.714  0.949]\n",
      "Recall:  [ 0.745  0.935  0.947  0.944  0.994  0.896  0.942  0.899  0.903  0.951\n",
      "  0.998  0.984  0.986  0.992  0.96   0.962  0.707  0.891  0.935  0.954\n",
      "  0.744  0.468  0.711  0.807  0.694  0.901  0.934  0.486  0.998  0.805\n",
      "  0.871  0.955  0.95   0.906  0.542  0.996  0.946  0.942  0.986  0.99\n",
      "  0.751  0.743  0.882]\n",
      "EPOCH 28 ...\n",
      "Validation Accuracy = 0.943\n",
      "\n",
      "Match percentage:  [ 0.933  1.008  1.004  0.96   1.033  1.033  0.867  0.92   0.96   0.94\n",
      "  1.048  1.02   1.076  0.996  0.967  1.111  0.533  1.025  1.017  1.067\n",
      "  0.767  0.733  0.95   1.05   0.233  0.987  1.067  0.3    1.617  1.3    0.817\n",
      "  1.067  1.533  0.978  0.75   1.008  1.     1.833  1.124  1.     0.95   0.8\n",
      "  1.033]\n",
      "Precision:  [ 0.939  0.944  0.915  0.957  0.895  0.92   0.973  0.938  0.926  0.984\n",
      "  0.956  0.88   0.914  0.992  0.903  0.965  0.991  0.984  0.889  0.851\n",
      "  0.829  0.866  0.995  0.753  0.828  0.913  0.835  0.809  0.872  0.738\n",
      "  0.894  0.867  0.72   0.976  0.98   0.944  0.991  0.872  0.857  0.91\n",
      "  0.889  0.722  0.95 ]\n",
      "Recall:  [ 0.749  0.936  0.948  0.944  0.994  0.898  0.94   0.9    0.904  0.95\n",
      "  0.998  0.984  0.986  0.992  0.961  0.963  0.701  0.895  0.937  0.955\n",
      "  0.744  0.476  0.718  0.811  0.677  0.903  0.936  0.478  0.998  0.811\n",
      "  0.869  0.956  0.951  0.908  0.549  0.996  0.948  0.944  0.986  0.991\n",
      "  0.748  0.745  0.886]\n",
      "EPOCH 29 ...\n",
      "Validation Accuracy = 0.940\n",
      "\n",
      "Match percentage:  [ 0.9    0.954  0.983  0.98   1.09   1.033  1.     1.027  0.927  0.973\n",
      "  1.019  1.013  1.071  0.996  0.989  1.033  0.533  1.008  1.042  1.133\n",
      "  0.85   0.7    0.75   0.917  0.8    1.313  1.117  0.833  1.05   0.767\n",
      "  0.95   0.967  1.1    0.956  0.4    1.033  1.     0.933  1.238  1.     0.767\n",
      "  1.5    1.   ]\n",
      "Precision:  [ 0.94   0.945  0.918  0.958  0.896  0.921  0.974  0.938  0.928  0.985\n",
      "  0.957  0.882  0.914  0.993  0.906  0.964  0.991  0.984  0.89   0.852\n",
      "  0.832  0.871  0.995  0.759  0.833  0.906  0.837  0.813  0.875  0.744\n",
      "  0.897  0.87   0.725  0.977  0.98   0.944  0.991  0.875  0.856  0.913\n",
      "  0.888  0.716  0.95 ]\n",
      "Recall:  [ 0.753  0.936  0.949  0.945  0.995  0.9    0.942  0.902  0.905  0.951\n",
      "  0.998  0.984  0.986  0.992  0.961  0.964  0.696  0.899  0.938  0.957\n",
      "  0.746  0.483  0.719  0.814  0.68   0.906  0.938  0.487  0.998  0.81\n",
      "  0.871  0.956  0.951  0.909  0.544  0.996  0.95   0.943  0.987  0.991\n",
      "  0.746  0.75   0.889]\n",
      "EPOCH 30 ...\n",
      "Validation Accuracy = 0.945\n",
      "\n",
      "Model saved\n",
      "S.No   Name                                                Match Percentage Precision    Recall\n",
      "0      Speed limit (20km/h)                                             0.9      0.94     0.753\n",
      "1      Speed limit (30km/h)                                           0.954     0.945     0.936\n",
      "2      Speed limit (50km/h)                                           0.983     0.918     0.949\n",
      "3      Speed limit (60km/h)                                            0.98     0.958     0.945\n",
      "4      Speed limit (70km/h)                                            1.09     0.896     0.995\n",
      "5      Speed limit (80km/h)                                           1.033     0.921       0.9\n",
      "6      End of speed limit (80km/h)                                      1.0     0.974     0.942\n",
      "7      Speed limit (100km/h)                                          1.027     0.938     0.902\n",
      "8      Speed limit (120km/h)                                          0.927     0.928     0.905\n",
      "9      No passing                                                     0.973     0.985     0.951\n",
      "10     No passing for vehicles over 3.5 metric tons                   1.019     0.957     0.998\n",
      "11     Right-of-way at the next intersection                          1.013     0.882     0.984\n",
      "12     Priority road                                                  1.071     0.914     0.986\n",
      "13     Yield                                                          0.996     0.993     0.992\n",
      "14     Stop                                                           0.989     0.906     0.961\n",
      "15     No vehicles                                                    1.033     0.964     0.964\n",
      "16     Vehicles over 3.5 metric tons prohibited                       0.533     0.991     0.696\n",
      "17     No entry                                                       1.008     0.984     0.899\n",
      "18     General caution                                                1.042      0.89     0.938\n",
      "19     Dangerous curve to the left                                    1.133     0.852     0.957\n",
      "20     Dangerous curve to the right                                    0.85     0.832     0.746\n",
      "21     Double curve                                                     0.7     0.871     0.483\n",
      "22     Bumpy road                                                      0.75     0.995     0.719\n",
      "23     Slippery road                                                  0.917     0.759     0.814\n",
      "24     Road narrows on the right                                        0.8     0.833      0.68\n",
      "25     Road work                                                      1.313     0.906     0.906\n",
      "26     Traffic signals                                                1.117     0.837     0.938\n",
      "27     Pedestrians                                                    0.833     0.813     0.487\n",
      "28     Children crossing                                               1.05     0.875     0.998\n",
      "29     Bicycles crossing                                              0.767     0.744      0.81\n",
      "30     Beware of ice/snow                                              0.95     0.897     0.871\n",
      "31     Wild animals crossing                                          0.967      0.87     0.956\n",
      "32     End of all speed and passing limits                              1.1     0.725     0.951\n",
      "33     Turn right ahead                                               0.956     0.977     0.909\n",
      "34     Turn left ahead                                                  0.4      0.98     0.544\n",
      "35     Ahead only                                                     1.033     0.944     0.996\n",
      "36     Go straight or right                                             1.0     0.991      0.95\n",
      "37     Go straight or left                                            0.933     0.875     0.943\n",
      "38     Keep right                                                     1.238     0.856     0.987\n",
      "39     Keep left                                                        1.0     0.913     0.991\n",
      "40     Roundabout mandatory                                           0.767     0.888     0.746\n",
      "41     End of no passing                                                1.5     0.716      0.75\n",
      "42     End of no passing by vehicles over 3.5 metric tons               1.0      0.95     0.889\n"
     ]
    }
   ],
   "source": [
    "with tf.Session() as sess:\n",
    "    sess.run(tf.global_variables_initializer())\n",
    "    num_examples = len(processed_X_train)\n",
    "    \n",
    "    print(\"Training...\")\n",
    "    print()\n",
    "    for i in range(EPOCHS):\n",
    "        processed_X_train, processed_y_train = shuffle(processed_X_train, processed_y_train)\n",
    "        for offset in range(0, num_examples, BATCH_SIZE):\n",
    "            end = offset + BATCH_SIZE\n",
    "            batch_x, batch_y = processed_X_train[offset:end], processed_y_train[offset:end]\n",
    "            sess.run(training_operation, feed_dict={x: batch_x, y: batch_y, keep_prob:1.0})\n",
    "        validation_match_percentage, validation_precision, validation_recall,validation_accuracy = evaluate(processed_X_valid, processed_y_valid)\n",
    "        print(\"EPOCH {} ...\".format(i+1))\n",
    "        print(\"Validation Accuracy = {:.3f}\".format(validation_accuracy))\n",
    "        print()\n",
    "        \n",
    "    saver.save(sess, model)\n",
    "    print(\"Model saved\")\n",
    "show_results(validation_match_percentage, validation_precision, validation_recall)"
   ]
  },
  {
   "cell_type": "markdown",
   "metadata": {
    "deletable": true,
    "editable": true
   },
   "source": [
    "### Evaluate Model\n",
    "\n",
    "High Accuracy for both training and validation set indicates the model is right whereas, high accuracy on the training set and low accuracy on the validation set indicates that the model is overfitted to the training set."
   ]
  },
  {
   "cell_type": "code",
   "execution_count": 15,
   "metadata": {
    "collapsed": false,
    "deletable": true,
    "editable": true
   },
   "outputs": [
    {
     "name": "stdout",
     "output_type": "stream",
     "text": [
      "Match percentage:  [ 1.006  0.999  1.     0.999  1.     1.002  1.     1.     1.     1.     1.\n",
      "  1.     0.999  1.     1.003  1.     1.     1.     0.999  1.     0.997  1.\n",
      "  1.     0.998  1.     1.026  1.     0.995  1.     0.904  1.     0.99   1.\n",
      "  0.998  1.     0.999  1.     1.     1.     1.     1.     1.     1.   ]\n",
      "Precision:  [ 0.951  0.957  0.935  0.967  0.917  0.938  0.979  0.952  0.944  0.988\n",
      "  0.966  0.904  0.933  0.994  0.924  0.97   0.993  0.988  0.915  0.874\n",
      "  0.858  0.898  0.996  0.805  0.874  0.922  0.871  0.865  0.899  0.79\n",
      "  0.915  0.894  0.767  0.981  0.985  0.957  0.993  0.895  0.885  0.932\n",
      "  0.907  0.768  0.96 ]\n",
      "Recall:  [ 0.794  0.95   0.96   0.957  0.996  0.921  0.951  0.924  0.926  0.962\n",
      "  0.998  0.987  0.989  0.994  0.969  0.97   0.746  0.92   0.952  0.964\n",
      "  0.781  0.551  0.762  0.851  0.747  0.928  0.953  0.583  0.998  0.83\n",
      "  0.894  0.963  0.96   0.925  0.62   0.997  0.958  0.953  0.99   0.993\n",
      "  0.782  0.797  0.91 ]\n",
      "Match percentage:  [ 0.9    0.954  0.983  0.98   1.09   1.033  1.     1.027  0.927  0.973\n",
      "  1.019  1.013  1.071  0.996  0.989  1.033  0.533  1.008  1.042  1.133\n",
      "  0.85   0.7    0.75   0.917  0.8    1.313  1.117  0.833  1.05   0.767\n",
      "  0.95   0.967  1.1    0.956  0.4    1.033  1.     0.933  1.238  1.     0.767\n",
      "  1.5    1.   ]\n",
      "Precision:  [ 0.952  0.958  0.937  0.968  0.917  0.938  0.979  0.952  0.946  0.988\n",
      "  0.967  0.906  0.933  0.994  0.925  0.97   0.993  0.988  0.915  0.874\n",
      "  0.86   0.901  0.996  0.808  0.876  0.917  0.872  0.865  0.9    0.794\n",
      "  0.917  0.897  0.769  0.982  0.986  0.957  0.993  0.897  0.883  0.933\n",
      "  0.906  0.761  0.96 ]\n",
      "Recall:  [ 0.796  0.949  0.961  0.958  0.996  0.923  0.953  0.925  0.926  0.962\n",
      "  0.998  0.987  0.989  0.994  0.969  0.971  0.741  0.923  0.953  0.965\n",
      "  0.781  0.554  0.762  0.852  0.748  0.93   0.954  0.587  0.998  0.828\n",
      "  0.895  0.962  0.961  0.926  0.614  0.997  0.959  0.952  0.99   0.993\n",
      "  0.779  0.8    0.911]\n",
      "Training Accuracy = 0.999\n",
      "Validation Accuracy = 0.945\n",
      "S.No   Name                                                Match Percentage Precision    Recall\n",
      "0      Speed limit (20km/h)                                             0.9     0.952     0.796\n",
      "1      Speed limit (30km/h)                                           0.954     0.958     0.949\n",
      "2      Speed limit (50km/h)                                           0.983     0.937     0.961\n",
      "3      Speed limit (60km/h)                                            0.98     0.968     0.958\n",
      "4      Speed limit (70km/h)                                            1.09     0.917     0.996\n",
      "5      Speed limit (80km/h)                                           1.033     0.938     0.923\n",
      "6      End of speed limit (80km/h)                                      1.0     0.979     0.953\n",
      "7      Speed limit (100km/h)                                          1.027     0.952     0.925\n",
      "8      Speed limit (120km/h)                                          0.927     0.946     0.926\n",
      "9      No passing                                                     0.973     0.988     0.962\n",
      "10     No passing for vehicles over 3.5 metric tons                   1.019     0.967     0.998\n",
      "11     Right-of-way at the next intersection                          1.013     0.906     0.987\n",
      "12     Priority road                                                  1.071     0.933     0.989\n",
      "13     Yield                                                          0.996     0.994     0.994\n",
      "14     Stop                                                           0.989     0.925     0.969\n",
      "15     No vehicles                                                    1.033      0.97     0.971\n",
      "16     Vehicles over 3.5 metric tons prohibited                       0.533     0.993     0.741\n",
      "17     No entry                                                       1.008     0.988     0.923\n",
      "18     General caution                                                1.042     0.915     0.953\n",
      "19     Dangerous curve to the left                                    1.133     0.874     0.965\n",
      "20     Dangerous curve to the right                                    0.85      0.86     0.781\n",
      "21     Double curve                                                     0.7     0.901     0.554\n",
      "22     Bumpy road                                                      0.75     0.996     0.762\n",
      "23     Slippery road                                                  0.917     0.808     0.852\n",
      "24     Road narrows on the right                                        0.8     0.876     0.748\n",
      "25     Road work                                                      1.313     0.917      0.93\n",
      "26     Traffic signals                                                1.117     0.872     0.954\n",
      "27     Pedestrians                                                    0.833     0.865     0.587\n",
      "28     Children crossing                                               1.05       0.9     0.998\n",
      "29     Bicycles crossing                                              0.767     0.794     0.828\n",
      "30     Beware of ice/snow                                              0.95     0.917     0.895\n",
      "31     Wild animals crossing                                          0.967     0.897     0.962\n",
      "32     End of all speed and passing limits                              1.1     0.769     0.961\n",
      "33     Turn right ahead                                               0.956     0.982     0.926\n",
      "34     Turn left ahead                                                  0.4     0.986     0.614\n",
      "35     Ahead only                                                     1.033     0.957     0.997\n",
      "36     Go straight or right                                             1.0     0.993     0.959\n",
      "37     Go straight or left                                            0.933     0.897     0.952\n",
      "38     Keep right                                                     1.238     0.883      0.99\n",
      "39     Keep left                                                        1.0     0.933     0.993\n",
      "40     Roundabout mandatory                                           0.767     0.906     0.779\n",
      "41     End of no passing                                                1.5     0.761       0.8\n",
      "42     End of no passing by vehicles over 3.5 metric tons               1.0      0.96     0.911\n"
     ]
    }
   ],
   "source": [
    "with tf.Session() as sess:\n",
    "    saver.restore(sess, model)\n",
    "    sess = tf.get_default_session()\n",
    "    training_match_percentage, training_precision, training_recall,training_accuracy = evaluate(processed_X_train, processed_y_train)\n",
    "    validation_match_percentage, validation_precision, validation_recall,validation_accuracy = evaluate(processed_X_valid, processed_y_valid)\n",
    "    print(\"Training Accuracy = {:.3f}\".format(training_accuracy))\n",
    "    print(\"Validation Accuracy = {:.3f}\".format(validation_accuracy))\n",
    "    show_results(validation_match_percentage, validation_precision, validation_recall)"
   ]
  },
  {
   "cell_type": "markdown",
   "metadata": {
    "deletable": true,
    "editable": true
   },
   "source": [
    "---\n",
    "\n",
    "## Step 3: Test a Model on New Images\n",
    "\n",
    "To give yourself more insight into how your model is working, download at least five pictures of German traffic signs from the web and use your model to predict the traffic sign type.\n",
    "\n",
    "You may find `signnames.csv` useful as it contains mappings from the class id (integer) to the actual sign name."
   ]
  },
  {
   "cell_type": "markdown",
   "metadata": {
    "deletable": true,
    "editable": true
   },
   "source": [
    "### Test Model on test images"
   ]
  },
  {
   "cell_type": "code",
   "execution_count": 16,
   "metadata": {
    "collapsed": false,
    "deletable": true,
    "editable": true
   },
   "outputs": [
    {
     "name": "stdout",
     "output_type": "stream",
     "text": [
      "Image index:  5245\n"
     ]
    },
    {
     "data": {
      "image/png": "[encoded data removed]",
      "text/plain": [
       "<matplotlib.figure.Figure at 0x13a97b550>"
      ]
     },
     "metadata": {},
     "output_type": "display_data"
    },
    {
     "data": {
      "image/png": "[encoded data removed]",
      "text/plain": [
       "<matplotlib.figure.Figure at 0x11c8d8ba8>"
      ]
     },
     "metadata": {},
     "output_type": "display_data"
    },
    {
     "name": "stdout",
     "output_type": "stream",
     "text": [
      "Match percentage:  [ 1.017  1.033  0.964  0.996  1.009  1.108  0.82   0.918  0.971  1.046\n",
      "  1.011  0.914  1.025  1.001  1.033  1.029  1.007  0.953  1.015  1.083\n",
      "  0.978  0.678  0.958  1.087  0.689  1.26   0.989  0.867  1.013  0.556\n",
      "  0.907  0.941  1.05   1.01   1.033  0.956  0.842  1.15   1.022  0.978\n",
      "  1.122  1.067  0.778]\n",
      "Precision:  [ 0.952  0.957  0.94   0.967  0.92   0.932  0.98   0.952  0.944  0.985\n",
      "  0.968  0.908  0.934  0.994  0.926  0.968  0.992  0.989  0.911  0.877\n",
      "  0.864  0.904  0.991  0.813  0.874  0.901  0.868  0.847  0.9    0.801\n",
      "  0.911  0.902  0.777  0.981  0.981  0.959  0.993  0.89   0.887  0.933\n",
      "  0.899  0.759  0.962]\n",
      "Recall:  [ 0.805  0.952  0.96   0.957  0.994  0.925  0.944  0.922  0.924  0.965\n",
      "  0.998  0.978  0.989  0.993  0.969  0.97   0.756  0.925  0.946  0.967\n",
      "  0.788  0.559  0.768  0.859  0.736  0.93   0.943  0.582  0.994  0.807\n",
      "  0.885  0.959  0.963  0.929  0.632  0.992  0.953  0.949  0.988  0.988\n",
      "  0.782  0.798  0.901]\n",
      "Test Accuracy = 0.931\n",
      "S.No   Name                                                Match Percentage Precision    Recall\n",
      "0      Speed limit (20km/h)                                           1.017     0.952     0.805\n",
      "1      Speed limit (30km/h)                                           1.033     0.957     0.952\n",
      "2      Speed limit (50km/h)                                           0.964      0.94      0.96\n",
      "3      Speed limit (60km/h)                                           0.996     0.967     0.957\n",
      "4      Speed limit (70km/h)                                           1.009      0.92     0.994\n",
      "5      Speed limit (80km/h)                                           1.108     0.932     0.925\n",
      "6      End of speed limit (80km/h)                                     0.82      0.98     0.944\n",
      "7      Speed limit (100km/h)                                          0.918     0.952     0.922\n",
      "8      Speed limit (120km/h)                                          0.971     0.944     0.924\n",
      "9      No passing                                                     1.046     0.985     0.965\n",
      "10     No passing for vehicles over 3.5 metric tons                   1.011     0.968     0.998\n",
      "11     Right-of-way at the next intersection                          0.914     0.908     0.978\n",
      "12     Priority road                                                  1.025     0.934     0.989\n",
      "13     Yield                                                          1.001     0.994     0.993\n",
      "14     Stop                                                           1.033     0.926     0.969\n",
      "15     No vehicles                                                    1.029     0.968      0.97\n",
      "16     Vehicles over 3.5 metric tons prohibited                       1.007     0.992     0.756\n",
      "17     No entry                                                       0.953     0.989     0.925\n",
      "18     General caution                                                1.015     0.911     0.946\n",
      "19     Dangerous curve to the left                                    1.083     0.877     0.967\n",
      "20     Dangerous curve to the right                                   0.978     0.864     0.788\n",
      "21     Double curve                                                   0.678     0.904     0.559\n",
      "22     Bumpy road                                                     0.958     0.991     0.768\n",
      "23     Slippery road                                                  1.087     0.813     0.859\n",
      "24     Road narrows on the right                                      0.689     0.874     0.736\n",
      "25     Road work                                                       1.26     0.901      0.93\n",
      "26     Traffic signals                                                0.989     0.868     0.943\n",
      "27     Pedestrians                                                    0.867     0.847     0.582\n",
      "28     Children crossing                                              1.013       0.9     0.994\n",
      "29     Bicycles crossing                                              0.556     0.801     0.807\n",
      "30     Beware of ice/snow                                             0.907     0.911     0.885\n",
      "31     Wild animals crossing                                          0.941     0.902     0.959\n",
      "32     End of all speed and passing limits                             1.05     0.777     0.963\n",
      "33     Turn right ahead                                                1.01     0.981     0.929\n",
      "34     Turn left ahead                                                1.033     0.981     0.632\n",
      "35     Ahead only                                                     0.956     0.959     0.992\n",
      "36     Go straight or right                                           0.842     0.993     0.953\n",
      "37     Go straight or left                                             1.15      0.89     0.949\n",
      "38     Keep right                                                     1.022     0.887     0.988\n",
      "39     Keep left                                                      0.978     0.933     0.988\n",
      "40     Roundabout mandatory                                           1.122     0.899     0.782\n",
      "41     End of no passing                                              1.067     0.759     0.798\n",
      "42     End of no passing by vehicles over 3.5 metric tons             0.778     0.962     0.901\n"
     ]
    }
   ],
   "source": [
    "### Load the images and plot them here.\n",
    "### Feel free to use as many code cells as needed.\n",
    "import random\n",
    "import cv2\n",
    "import matplotlib.pyplot as plt\n",
    "%matplotlib inline\n",
    "\n",
    "\n",
    "index = random.randint(0, len(X_test)-1)\n",
    "print(\"Image index: \", index)\n",
    "\n",
    "plot_image([X_test[index]], \"Image before preprocessing \" + get_name(y_test[index]))\n",
    "preprocess_X_test = preprocess_list(X_test)\n",
    "plot_image([preprocess_X_test[index]], \"Image after preprocessing \" + get_name(y_test[index]))\n",
    "\n",
    "with tf.Session() as sess:\n",
    "    saver.restore(sess, model)\n",
    "    match_percentage, precision, recall, accuracy = evaluate(preprocess_X_test, y_test)  \n",
    "    print(\"Test Accuracy = {:.3f}\".format(accuracy))\n",
    "    show_results(match_percentage, precision, recall)"
   ]
  },
  {
   "cell_type": "markdown",
   "metadata": {
    "deletable": true,
    "editable": true
   },
   "source": [
    "### Load Images from Web"
   ]
  },
  {
   "cell_type": "code",
   "execution_count": 17,
   "metadata": {
    "collapsed": false,
    "deletable": true,
    "editable": true
   },
   "outputs": [
    {
     "name": "stdout",
     "output_type": "stream",
     "text": [
      "['./german-signs/1-30limit.png', './german-signs/14-Stop.png', './german-signs/23-SlipperyRoad.jpg', './german-signs/27-Pedestrians.png', './german-signs/8-120limit.jpg']\n",
      "./german-signs/1-30limit.png :  (32, 32, 3)\n",
      "./german-signs/14-Stop.png :  (32, 32, 3)\n",
      "./german-signs/23-SlipperyRoad.jpg :  (32, 32, 3)\n",
      "./german-signs/27-Pedestrians.png :  (32, 32, 3)\n",
      "./german-signs/8-120limit.jpg :  (32, 32, 3)\n"
     ]
    },
    {
     "data": {
      "image/png": "[encoded data removed]",
      "text/plain": [
       "<matplotlib.figure.Figure at 0x10ab35208>"
      ]
     },
     "metadata": {},
     "output_type": "display_data"
    },
    {
     "name": "stdout",
     "output_type": "stream",
     "text": [
      "Y-values:  ['[1-Speed limit (30km/h)]', '[14-Stop]', '[23-Slippery road]', '[27-Pedestrians]', '[8-Speed limit (120km/h)]']\n"
     ]
    }
   ],
   "source": [
    "### Calculate the accuracy for these 5 new images. \n",
    "### For example, if the model predicted 1 out of 5 signs correctly, it's 20% accurate on these new images.\n",
    "import cv2\n",
    "import os\n",
    "from os import listdir\n",
    "from os.path import isfile, join\n",
    "import numpy as np\n",
    "\n",
    "import matplotlib.pyplot as plt\n",
    "%matplotlib inline\n",
    "\n",
    "def load_image(im_path):\n",
    "    img = cv2.imread(f)\n",
    "    b,g,r = cv2.split(img)\n",
    "    img = cv2.merge((r,g,b))\n",
    "    return img\n",
    "\n",
    "web_files_dir = \"./german-signs\"\n",
    "web_files = [join(web_files_dir, f) for f in listdir(web_files_dir) if isfile(join(web_files_dir, f)) and not f.startswith(\".\")]\n",
    "print(web_files)\n",
    "\n",
    "\n",
    "X_web_raw = []\n",
    "y_web_raw = []\n",
    "for f in web_files:\n",
    "    img = load_image(f)\n",
    "    print(f, \": \", img.shape)\n",
    "    X_web_raw.append(img)\n",
    "\n",
    "    _, file_name = os.path.split(f)\n",
    "    y_web_raw.append(int(file_name.split(\"-\")[0]))\n",
    "    \n",
    "    \n",
    "plt.imshow(np.hstack(X_web_raw))\n",
    "plt.show()\n",
    "\n",
    "print(\"Y-values: \", [get_name(y_w) for y_w in y_web_raw])"
   ]
  },
  {
   "cell_type": "markdown",
   "metadata": {
    "deletable": true,
    "editable": true
   },
   "source": [
    "### Pre Process web images"
   ]
  },
  {
   "cell_type": "code",
   "execution_count": 18,
   "metadata": {
    "collapsed": false,
    "deletable": true,
    "editable": true
   },
   "outputs": [
    {
     "name": "stdout",
     "output_type": "stream",
     "text": [
      "Web Shape:  (5, 32, 32, 3)   (5,)\n",
      "Web Shape after preprocessing:  (5, 32, 32, 1)   (5,)\n"
     ]
    }
   ],
   "source": [
    "X_web = np.array(X_web_raw)\n",
    "y_web = np.array(y_web_raw)\n",
    "\n",
    "print(\"Web Shape: \", X_web.shape, \" \", y_web.shape)\n",
    "preprocess_X_web = preprocess_list(X_web)\n",
    "print(\"Web Shape after preprocessing: \", preprocess_X_web.shape, \" \", y_web.shape)"
   ]
  },
  {
   "cell_type": "markdown",
   "metadata": {
    "deletable": true,
    "editable": true
   },
   "source": [
    "### Predict the Sign Type for each Image and Evaluate"
   ]
  },
  {
   "cell_type": "code",
   "execution_count": 19,
   "metadata": {
    "collapsed": false,
    "deletable": true,
    "editable": true
   },
   "outputs": [
    {
     "name": "stdout",
     "output_type": "stream",
     "text": [
      "Predictions:  ['[1-Speed limit (30km/h)]', '[14-Stop]', '[23-Slippery road]', '[27-Pedestrians]', '[8-Speed limit (120km/h)]']\n",
      "Actual:  ['[1-Speed limit (30km/h)]', '[14-Stop]', '[23-Slippery road]', '[27-Pedestrians]', '[8-Speed limit (120km/h)]']\n"
     ]
    }
   ],
   "source": [
    "with tf.Session() as sess:\n",
    "        saver.restore(sess, model)\n",
    "        sess = tf.get_default_session()\n",
    "        predictions = sess.run(predicted_values, {x: preprocess_X_web, y: y_web, keep_prob:1.0})\n",
    "        print(\"Predictions: \", [get_name(p) for p in predictions])\n",
    "        print(\"Actual: \", [get_name(y_w) for y_w in y_web_raw])"
   ]
  },
  {
   "cell_type": "markdown",
   "metadata": {
    "deletable": true,
    "editable": true
   },
   "source": [
    "### Output Top 5 Softmax Probabilities For Each Image Found on the Web"
   ]
  },
  {
   "cell_type": "markdown",
   "metadata": {
    "deletable": true,
    "editable": true
   },
   "source": [
    "For each of the new images, print out the model's softmax probabilities to show the **certainty** of the model's predictions (limit the output to the top 5 probabilities for each image). [`tf.nn.top_k`](https://www.tensorflow.org/versions/r0.12/api_docs/python/nn.html#top_k) could prove helpful here. \n",
    "\n",
    "The example below demonstrates how tf.nn.top_k can be used to find the top k predictions for each image.\n",
    "\n",
    "`tf.nn.top_k` will return the values and indices (class ids) of the top k predictions. So if k=3, for each sign, it'll return the 3 largest probabilities (out of a possible 43) and the correspoding class ids.\n",
    "\n",
    "Take this numpy array as an example. The values in the array represent predictions. The array contains softmax probabilities for five candidate images with six possible classes. `tk.nn.top_k` is used to choose the three classes with the highest probability:\n",
    "\n",
    "```\n",
    "# (5, 6) array\n",
    "a = np.array([[ 0.24879643,  0.07032244,  0.12641572,  0.34763842,  0.07893497,\n",
    "         0.12789202],\n",
    "       [ 0.28086119,  0.27569815,  0.08594638,  0.0178669 ,  0.18063401,\n",
    "         0.15899337],\n",
    "       [ 0.26076848,  0.23664738,  0.08020603,  0.07001922,  0.1134371 ,\n",
    "         0.23892179],\n",
    "       [ 0.11943333,  0.29198961,  0.02605103,  0.26234032,  0.1351348 ,\n",
    "         0.16505091],\n",
    "       [ 0.09561176,  0.34396535,  0.0643941 ,  0.16240774,  0.24206137,\n",
    "         0.09155967]])\n",
    "```\n",
    "\n",
    "Running it through `sess.run(tf.nn.top_k(tf.constant(a), k=3))` produces:\n",
    "\n",
    "```\n",
    "TopKV2(values=array([[ 0.34763842,  0.24879643,  0.12789202],\n",
    "       [ 0.28086119,  0.27569815,  0.18063401],\n",
    "       [ 0.26076848,  0.23892179,  0.23664738],\n",
    "       [ 0.29198961,  0.26234032,  0.16505091],\n",
    "       [ 0.34396535,  0.24206137,  0.16240774]]), indices=array([[3, 0, 5],\n",
    "       [0, 1, 4],\n",
    "       [0, 5, 1],\n",
    "       [1, 3, 5],\n",
    "       [1, 4, 3]], dtype=int32))\n",
    "```\n",
    "\n",
    "Looking just at the first row we get `[ 0.34763842,  0.24879643,  0.12789202]`, you can confirm these are the 3 largest probabilities in `a`. You'll also notice `[3, 0, 5]` are the corresponding indices."
   ]
  },
  {
   "cell_type": "code",
   "execution_count": 20,
   "metadata": {
    "collapsed": false,
    "deletable": true,
    "editable": true,
    "scrolled": false
   },
   "outputs": [
    {
     "name": "stdout",
     "output_type": "stream",
     "text": [
      "TopKV2(values=array([[  9.99843240e-01,   1.14688126e-04,   2.53905091e-05,\n",
      "          1.47001692e-05,   1.58908449e-06],\n",
      "       [  9.79729176e-01,   1.91298053e-02,   1.12310052e-03,\n",
      "          5.83699648e-06,   5.48068965e-06],\n",
      "       [  7.69517601e-01,   2.30482414e-01,   1.04860809e-09,\n",
      "          1.42619180e-10,   1.11549200e-10],\n",
      "       [  9.97149408e-01,   2.77165486e-03,   7.89780970e-05,\n",
      "          1.78488779e-08,   2.00301841e-11],\n",
      "       [  9.99999046e-01,   4.55223187e-07,   2.24054915e-07,\n",
      "          1.94509184e-07,   2.44905234e-08]], dtype=float32), indices=array([[ 1,  4,  2,  5, 14],\n",
      "       [14,  3,  1, 13, 34],\n",
      "       [23, 25, 29, 19, 26],\n",
      "       [27, 11, 25, 18, 28],\n",
      "       [ 8, 31,  2,  3, 15]], dtype=int32))\n"
     ]
    },
    {
     "data": {
      "image/png": "[encoded data removed]",
      "text/plain": [
       "<matplotlib.figure.Figure at 0x1285597f0>"
      ]
     },
     "metadata": {},
     "output_type": "display_data"
    },
    {
     "data": {
      "image/png": "[encoded data removed]",
      "text/plain": [
       "<matplotlib.figure.Figure at 0x11bde6400>"
      ]
     },
     "metadata": {},
     "output_type": "display_data"
    },
    {
     "data": {
      "image/png": "[encoded data removed]",
      "text/plain": [
       "<matplotlib.figure.Figure at 0x11cc88940>"
      ]
     },
     "metadata": {},
     "output_type": "display_data"
    },
    {
     "data": {
      "image/png": "[encoded data removed]",
      "text/plain": [
       "<matplotlib.figure.Figure at 0x11c8355c0>"
      ]
     },
     "metadata": {},
     "output_type": "display_data"
    },
    {
     "data": {
      "image/png": "[encoded data removed]",
      "text/plain": [
       "<matplotlib.figure.Figure at 0x11c8b6198>"
      ]
     },
     "metadata": {},
     "output_type": "display_data"
    }
   ],
   "source": [
    "### Print out the top five softmax probabilities for the predictions on the German traffic sign images found on the web. \n",
    "### Feel free to use as many code cells as needed.\n",
    "k_val = 5\n",
    "with tf.Session() as sess:\n",
    "    saver.restore(sess, model)\n",
    "    sess = tf.get_default_session()\n",
    "    top_k = sess.run(tf.nn.top_k(tf.nn.softmax(logits), k = k_val), {x: preprocess_X_web, y: y_web, keep_prob: 1.0})\n",
    "    print(top_k)\n",
    "\n",
    "softmax_values = top_k.values\n",
    "top_k_predictions = top_k.indices\n",
    "\n",
    "for i, (softmax_value, top_k_prediction) in enumerate(zip(softmax_values, top_k_predictions)):\n",
    "    fig, ax = plt.subplots()\n",
    "    plt.axis([0, k_val, 0, 1.2])\n",
    "    plt.title(\"Web Image: [\" + y_names[y_web[i]] + \"]\")\n",
    "    plt.tick_params(bottom='off')\n",
    "    ax.set_ylabel('Softmax probabilities')\n",
    "    ax.set_xticklabels([y_names[p] for p in top_k_prediction], fontsize=8, wrap=True, rotation=45, ha='right')\n",
    "    bars = ax.bar(np.arange(X_web.shape[0]), softmax_value, 1.0/k_val, color='g')\n",
    "    for bar in bars:\n",
    "        height = bar.get_height()\n",
    "        ax.text(bar.get_x() + bar.get_width()/2., height + bar.get_width()/5,\"%.4f\" % height, ha='left', va='bottom', fontsize=8, color='r')\n",
    "\n",
    "plt.show()"
   ]
  },
  {
   "cell_type": "markdown",
   "metadata": {
    "deletable": true,
    "editable": true
   },
   "source": [
    "> **Note**: Once you have completed all of the code implementations and successfully answered each question above, you may finalize your work by exporting the iPython Notebook as an HTML document. You can do this by using the menu above and navigating to  \\n\",\n",
    "    \"**File -> Download as -> HTML (.html)**. Include the finished document along with this notebook as your submission."
   ]
  },
  {
   "cell_type": "markdown",
   "metadata": {
    "deletable": true,
    "editable": true
   },
   "source": [
    "### Project Writeup\n",
    "\n",
    "Once you have completed the code implementation, document your results in a project writeup using this [template](https://github.com/udacity/CarND-Traffic-Sign-Classifier-Project/blob/master/writeup_template.md) as a guide. The writeup can be in a markdown or pdf file. "
   ]
  }
 ],
 "metadata": {
  "anaconda-cloud": {},
  "kernelspec": {
   "display_name": "Python 3",
   "language": "python",
   "name": "python3"
  },
  "language_info": {
   "codemirror_mode": {
    "name": "ipython",
    "version": 3
   },
   "file_extension": ".py",
   "mimetype": "text/x-python",
   "name": "python",
   "nbconvert_exporter": "python",
   "pygments_lexer": "ipython3",
   "version": "3.5.2"
  },
  "widgets": {
   "state": {},
   "version": "1.1.2"
  }
 },
 "nbformat": 4,
 "nbformat_minor": 1
}
