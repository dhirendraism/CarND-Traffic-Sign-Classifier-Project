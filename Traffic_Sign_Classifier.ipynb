{
 "cells": [
  {
   "cell_type": "markdown",
   "metadata": {
    "deletable": true,
    "editable": true
   },
   "source": [
    "# Self-Driving Car Engineer Nanodegree\n",
    "\n",
    "## Deep Learning\n",
    "\n",
    "## Project: Build a Traffic Sign Recognition Classifier\n",
    "\n",
    "In this notebook, a template is provided for you to implement your functionality in stages, which is required to successfully complete this project. If additional code is required that cannot be included in the notebook, be sure that the Python code is successfully imported and included in your submission if necessary. \n",
    "\n",
    "> **Note**: Once you have completed all of the code implementations, you need to finalize your work by exporting the iPython Notebook as an HTML document. Before exporting the notebook to html, all of the code cells need to have been run so that reviewers can see the final implementation and output. You can then export the notebook by using the menu above and navigating to  \\n\",\n",
    "    \"**File -> Download as -> HTML (.html)**. Include the finished document along with this notebook as your submission. \n",
    "\n",
    "In addition to implementing code, there is a writeup to complete. The writeup should be completed in a separate file, which can be either a markdown file or a pdf document. There is a [write up template](https://github.com/udacity/CarND-Traffic-Sign-Classifier-Project/blob/master/writeup_template.md) that can be used to guide the writing process. Completing the code template and writeup template will cover all of the [rubric points](https://review.udacity.com/#!/rubrics/481/view) for this project.\n",
    "\n",
    "The [rubric](https://review.udacity.com/#!/rubrics/481/view) contains \"Stand Out Suggestions\" for enhancing the project beyond the minimum requirements. The stand out suggestions are optional. If you decide to pursue the \"stand out suggestions\", you can include the code in this Ipython notebook and also discuss the results in the writeup file.\n",
    "\n",
    "\n",
    ">**Note:** Code and Markdown cells can be executed using the **Shift + Enter** keyboard shortcut. In addition, Markdown cells can be edited by typically double-clicking the cell to enter edit mode."
   ]
  },
  {
   "cell_type": "markdown",
   "metadata": {
    "deletable": true,
    "editable": true
   },
   "source": [
    "---\n",
    "## Step 0: Load The Data"
   ]
  },
  {
   "cell_type": "code",
   "execution_count": 1,
   "metadata": {
    "collapsed": false,
    "deletable": true,
    "editable": true
   },
   "outputs": [
    {
     "name": "stdout",
     "output_type": "stream",
     "text": [
      "\n",
      "Image Shape: (32, 32, 3)\n",
      "\n",
      "Training Set:   34799 samples\n",
      "Validation Set: 4410 samples\n",
      "Test Set:       12630 samples\n"
     ]
    }
   ],
   "source": [
    "# Load pickled data\n",
    "import pickle\n",
    "\n",
    "training_file = './traffic-signs-data/train.p'\n",
    "validation_file= './traffic-signs-data/valid.p'\n",
    "testing_file = './traffic-signs-data/test.p'\n",
    "\n",
    "with open(training_file, mode='rb') as f:\n",
    "    train = pickle.load(f)\n",
    "with open(validation_file, mode='rb') as f:\n",
    "    valid = pickle.load(f)\n",
    "with open(testing_file, mode='rb') as f:\n",
    "    test = pickle.load(f)\n",
    "    \n",
    "X_train, y_train = train['features'], train['labels']\n",
    "X_valid, y_valid = valid['features'], valid['labels']\n",
    "X_test, y_test = test['features'], test['labels']\n",
    "\n",
    "assert(len(X_train) == len(y_train))\n",
    "assert(len(X_valid) == len(y_valid))\n",
    "assert(len(X_test) == len(y_test))\n",
    "\n",
    "print()\n",
    "print(\"Image Shape: {}\".format(X_train[0].shape))\n",
    "print()\n",
    "print(\"Training Set:   {} samples\".format(len(X_train)))\n",
    "print(\"Validation Set: {} samples\".format(len(X_valid)))\n",
    "print(\"Test Set:       {} samples\".format(len(X_test)))"
   ]
  },
  {
   "cell_type": "markdown",
   "metadata": {
    "deletable": true,
    "editable": true
   },
   "source": [
    "---\n",
    "\n",
    "## Step 1: Dataset Summary & Exploration\n",
    "\n",
    "The pickled data is a dictionary with 4 key/value pairs:\n",
    "\n",
    "- `'features'` is a 4D array containing raw pixel data of the traffic sign images, (num examples, width, height, channels).\n",
    "- `'labels'` is a 1D array containing the label/class id of the traffic sign. The file `signnames.csv` contains id -> name mappings for each id.\n",
    "- `'sizes'` is a list containing tuples, (width, height) representing the original width and height the image.\n",
    "- `'coords'` is a list containing tuples, (x1, y1, x2, y2) representing coordinates of a bounding box around the sign in the image. **THESE COORDINATES ASSUME THE ORIGINAL IMAGE. THE PICKLED DATA CONTAINS RESIZED VERSIONS (32 by 32) OF THESE IMAGES**\n",
    "\n",
    "Complete the basic data summary below. Use python, numpy and/or pandas methods to calculate the data summary rather than hard coding the results. For example, the [pandas shape method](http://pandas.pydata.org/pandas-docs/stable/generated/pandas.DataFrame.shape.html) might be useful for calculating some of the summary results. "
   ]
  },
  {
   "cell_type": "markdown",
   "metadata": {
    "deletable": true,
    "editable": true
   },
   "source": [
    "### Provide a Basic Summary of the Data Set Using Python, Numpy and/or Pandas"
   ]
  },
  {
   "cell_type": "code",
   "execution_count": 2,
   "metadata": {
    "collapsed": false,
    "deletable": true,
    "editable": true
   },
   "outputs": [
    {
     "name": "stdout",
     "output_type": "stream",
     "text": [
      "Number of training examples = 34799\n",
      "Number of testing examples = 12630\n",
      "Image data shape = (32, 32, 3)\n",
      "Number of classes = 43\n",
      "\n",
      "Signs:  {0: 'Speed limit (20km/h)', 1: 'Speed limit (30km/h)', 2: 'Speed limit (50km/h)', 3: 'Speed limit (60km/h)', 4: 'Speed limit (70km/h)', 5: 'Speed limit (80km/h)', 6: 'End of speed limit (80km/h)', 7: 'Speed limit (100km/h)', 8: 'Speed limit (120km/h)', 9: 'No passing', 10: 'No passing for vehicles over 3.5 metric tons', 11: 'Right-of-way at the next intersection', 12: 'Priority road', 13: 'Yield', 14: 'Stop', 15: 'No vehicles', 16: 'Vehicles over 3.5 metric tons prohibited', 17: 'No entry', 18: 'General caution', 19: 'Dangerous curve to the left', 20: 'Dangerous curve to the right', 21: 'Double curve', 22: 'Bumpy road', 23: 'Slippery road', 24: 'Road narrows on the right', 25: 'Road work', 26: 'Traffic signals', 27: 'Pedestrians', 28: 'Children crossing', 29: 'Bicycles crossing', 30: 'Beware of ice/snow', 31: 'Wild animals crossing', 32: 'End of all speed and passing limits', 33: 'Turn right ahead', 34: 'Turn left ahead', 35: 'Ahead only', 36: 'Go straight or right', 37: 'Go straight or left', 38: 'Keep right', 39: 'Keep left', 40: 'Roundabout mandatory', 41: 'End of no passing', 42: 'End of no passing by vehicles over 3.5 metric tons'}\n"
     ]
    }
   ],
   "source": [
    "import csv\n",
    "### Replace each question mark with the appropriate value. \n",
    "### Use python, pandas or numpy methods rather than hard coding the results\n",
    "\n",
    "# TODO: Number of training examples\n",
    "n_train = len(X_train)\n",
    "\n",
    "# TODO: Number of testing examples.\n",
    "n_test = len(X_test)\n",
    "\n",
    "# TODO: What's the shape of an traffic sign image?\n",
    "image_shape = X_train[0].shape\n",
    "\n",
    "# TODO: How many unique classes/labels there are in the dataset.\n",
    "n_classes = 43\n",
    "\n",
    "print(\"Number of training examples =\", n_train)\n",
    "print(\"Number of testing examples =\", n_test)\n",
    "print(\"Image data shape =\", image_shape)\n",
    "print(\"Number of classes =\", n_classes)\n",
    "\n",
    "y_names = {}\n",
    "with open(\"signnames.csv\", \"r\") as sgn_file:\n",
    "    sign_reader = csv.DictReader(sgn_file)\n",
    "    for row in sign_reader:\n",
    "        y_names[int(row['ClassId'])] = row['SignName']\n",
    "print()\n",
    "print(\"Signs: \", y_names)\n",
    "\n",
    "def get_name(index):\n",
    "    return \"[\" + str(index) + \"-\" + y_names[index] + \"]\""
   ]
  },
  {
   "cell_type": "markdown",
   "metadata": {
    "deletable": true,
    "editable": true
   },
   "source": [
    "### Include an exploratory visualization of the dataset"
   ]
  },
  {
   "cell_type": "markdown",
   "metadata": {
    "deletable": true,
    "editable": true
   },
   "source": [
    "Visualize the German Traffic Signs Dataset using the pickled file(s). This is open ended, suggestions include: plotting traffic sign images, plotting the count of each sign, etc.\n",
    "\n",
    "The [Matplotlib](http://matplotlib.org/) [examples](http://matplotlib.org/examples/index.html) and [gallery](http://matplotlib.org/gallery.html) pages are a great resource for doing visualizations in Python.\n",
    "\n",
    "**NOTE:** It's recommended you start with something simple first. If you wish to do more, come back to it after you've completed the rest of the sections."
   ]
  },
  {
   "cell_type": "code",
   "execution_count": 3,
   "metadata": {
    "collapsed": false,
    "deletable": true,
    "editable": true
   },
   "outputs": [
    {
     "name": "stdout",
     "output_type": "stream",
     "text": [
      "18\n"
     ]
    },
    {
     "data": {
      "image/png": "[encoded data removed]",
      "text/plain": [
       "<matplotlib.figure.Figure at 0x116157b38>"
      ]
     },
     "metadata": {},
     "output_type": "display_data"
    }
   ],
   "source": [
    "### Data exploration visualization code goes here.\n",
    "### Feel free to use as many code cells as needed.\n",
    "import random\n",
    "import matplotlib.pyplot as plt\n",
    "# Visualizations will be shown in the notebook.\n",
    "%matplotlib inline\n",
    "\n",
    "index = random.randint(0, len(X_train))\n",
    "image = X_train[index].squeeze()\n",
    "\n",
    "plt.figure(figsize=(1,1))\n",
    "plt.imshow(image)\n",
    "print(y_train[index])"
   ]
  },
  {
   "cell_type": "markdown",
   "metadata": {
    "deletable": true,
    "editable": true
   },
   "source": [
    "----\n",
    "\n",
    "## Step 2: Design and Test a Model Architecture\n",
    "\n",
    "Design and implement a deep learning model that learns to recognize traffic signs. Train and test your model on the [German Traffic Sign Dataset](http://benchmark.ini.rub.de/?section=gtsrb&subsection=dataset).\n",
    "\n",
    "The LeNet-5 implementation shown in the [classroom](https://classroom.udacity.com/nanodegrees/nd013/parts/fbf77062-5703-404e-b60c-95b78b2f3f9e/modules/6df7ae49-c61c-4bb2-a23e-6527e69209ec/lessons/601ae704-1035-4287-8b11-e2c2716217ad/concepts/d4aca031-508f-4e0b-b493-e7b706120f81) at the end of the CNN lesson is a solid starting point. You'll have to change the number of classes and possibly the preprocessing, but aside from that it's plug and play! \n",
    "\n",
    "With the LeNet-5 solution from the lecture, you should expect a validation set accuracy of about 0.89. To meet specifications, the validation set accuracy will need to be at least 0.93. It is possible to get an even higher accuracy, but 0.93 is the minimum for a successful project submission. \n",
    "\n",
    "There are various aspects to consider when thinking about this problem:\n",
    "\n",
    "- Neural network architecture (is the network over or underfitting?)\n",
    "- Play around preprocessing techniques (normalization, rgb to grayscale, etc)\n",
    "- Number of examples per label (some have more than others).\n",
    "- Generate fake data.\n",
    "\n",
    "Here is an example of a [published baseline model on this problem](http://yann.lecun.com/exdb/publis/pdf/sermanet-ijcnn-11.pdf). It's not required to be familiar with the approach used in the paper but, it's good practice to try to read papers like these."
   ]
  },
  {
   "cell_type": "markdown",
   "metadata": {
    "deletable": true,
    "editable": true
   },
   "source": [
    "### Pre-process the Data Set (normalization, grayscale, etc.)"
   ]
  },
  {
   "cell_type": "markdown",
   "metadata": {
    "deletable": true,
    "editable": true
   },
   "source": [
    "Use the code cell (or multiple code cells, if necessary) to implement the first step of your project."
   ]
  },
  {
   "cell_type": "code",
   "execution_count": 4,
   "metadata": {
    "collapsed": false,
    "deletable": true,
    "editable": true
   },
   "outputs": [
    {
     "name": "stdout",
     "output_type": "stream",
     "text": [
      "Shape before preprocessing:  (34799, 32, 32, 3)\n",
      "Shape after preprocessing:  (34799, 32, 32, 1)\n"
     ]
    }
   ],
   "source": [
    "### Preprocess the data here. Preprocessing steps could include normalization, converting to grayscale, etc.\n",
    "### Feel free to use as many code cells as needed.\n",
    "from sklearn.utils import shuffle\n",
    "import cv2\n",
    "import numpy as np\n",
    "\n",
    "X_train, y_train = shuffle(X_train, y_train)\n",
    "\n",
    "def plot_image(images, title=\"\"):\n",
    "    plt.figure(figsize=(len(images)*2, 2))\n",
    "    plt.title(title)\n",
    "    if(len(images[0].shape) > 2 and images[0].shape[2] > 1):\n",
    "        plt.imshow(np.hstack(images))\n",
    "    else:\n",
    "        plt.imshow(np.hstack([i.squeeze() for i in images]), cmap='gray')\n",
    "    plt.show()\n",
    "    \n",
    "def preprocess(img):\n",
    "    \n",
    "    # Convert to grayscale\n",
    "    gray_image = cv2.cvtColor(img, cv2.COLOR_BGR2GRAY)\n",
    "    \n",
    "    # We normalize in order to deal with overly bright or overly dark pictures\n",
    "    norm_image = cv2.normalize(gray_image, np.zeros(gray_image.shape), 0, 255, cv2.NORM_MINMAX, dtype=cv2.CV_8U)\n",
    "    \n",
    "    return np.stack([norm_image], axis = -1)\n",
    "\n",
    "def preprocess_list(images):\n",
    "    processed_images = [preprocess(img) for img in images]\n",
    "    return np.array(processed_images).reshape((images.shape[0],) + processed_images[0].shape)\n",
    "\n",
    "print(\"Shape before preprocessing: \", X_train.shape)\n",
    "processed_X_train = preprocess_list(X_train)\n",
    "processed_y_train = np.copy(y_train)\n",
    "print(\"Shape after preprocessing: \", processed_X_train.shape)\n",
    "    \n",
    "    \n",
    "processed_X_valid = preprocess_list(X_valid)\n",
    "processed_y_valid = np.copy(y_valid)"
   ]
  },
  {
   "cell_type": "markdown",
   "metadata": {},
   "source": [
    "### Validate Processed Image"
   ]
  },
  {
   "cell_type": "code",
   "execution_count": 5,
   "metadata": {
    "collapsed": false
   },
   "outputs": [
    {
     "name": "stdout",
     "output_type": "stream",
     "text": [
      "Image index:  18435\n"
     ]
    },
    {
     "data": {
      "image/png": "[encoded data removed]",
      "text/plain": [
       "<matplotlib.figure.Figure at 0x116157908>"
      ]
     },
     "metadata": {},
     "output_type": "display_data"
    },
    {
     "data": {
      "image/png": "[encoded data removed]",
      "text/plain": [
       "<matplotlib.figure.Figure at 0x129e8d6a0>"
      ]
     },
     "metadata": {},
     "output_type": "display_data"
    }
   ],
   "source": [
    "import random\n",
    "import cv2\n",
    "import matplotlib.pyplot as plt\n",
    "%matplotlib inline\n",
    "\n",
    "\n",
    "index = random.randint(0, len(X_train)-1)\n",
    "print(\"Image index: \", index)\n",
    "\n",
    "plot_image([X_train[index]], \"Image before preprocessing \" + get_name(y_train[index]))\n",
    "plot_image([processed_X_train[index]], \"Image after preprocessing \" + get_name(processed_y_train[index]))"
   ]
  },
  {
   "cell_type": "code",
   "execution_count": 33,
   "metadata": {
    "collapsed": true
   },
   "outputs": [],
   "source": [
    "import tensorflow as tf\n",
    "\n",
    "EPOCHS = 10\n",
    "BATCH_SIZE = 128"
   ]
  },
  {
   "cell_type": "markdown",
   "metadata": {
    "deletable": true,
    "editable": true
   },
   "source": [
    "### Model Architecture"
   ]
  },
  {
   "cell_type": "code",
   "execution_count": 7,
   "metadata": {
    "collapsed": true,
    "deletable": true,
    "editable": true
   },
   "outputs": [],
   "source": [
    "### Define your architecture here.\n",
    "### Feel free to use as many code cells as needed.\n",
    "from tensorflow.contrib.layers import flatten\n",
    "\n",
    "MU = 0\n",
    "SIGMA = 0.1\n",
    "\n",
    "keep_prob = tf.placeholder(tf.float32)\n",
    "\n",
    "def conv(\n",
    "    x, \n",
    "    depth, \n",
    "    filter_shape_x,\n",
    "    filter_shape_y,\n",
    "    filter_depth,\n",
    "    stride_x,\n",
    "    stride_y\n",
    "):\n",
    "    # Convolution\n",
    "    layer_w = tf.Variable(tf.truncated_normal(shape=(filter_shape_x,filter_shape_y, depth, filter_depth), mean = MU, stddev = SIGMA))\n",
    "    layer_b = tf.Variable(tf.zeros(filter_depth))\n",
    "    layer  = tf.nn.conv2d(x, layer_w, strides=[1, stride_x, stride_y, 1], padding='VALID') + layer_b\n",
    "    #Activation.\n",
    "    layer = tf.nn.relu(layer)\n",
    "    return layer\n",
    "\n",
    "def avg_pool(\n",
    "    x, \n",
    "    ksize, \n",
    "    stride_x, \n",
    "    stride_y\n",
    "):\n",
    "    return tf.nn.avg_pool(x, ksize, strides=[1, stride_x, stride_y, 1], padding='VALID')\n",
    "\n",
    "def fully_connected_network(\n",
    "    x, \n",
    "    input_x, \n",
    "    input_y\n",
    "):\n",
    "    fc_W = tf.Variable(tf.truncated_normal(shape=(input_x, input_y), mean = MU, stddev = SIGMA))\n",
    "    fc_b = tf.Variable(tf.zeros(input_y))\n",
    "    fc   = tf.matmul(x, fc_W) + fc_b\n",
    "    \n",
    "    return fc\n",
    "\n",
    "def activation(x):\n",
    "    return tf.nn.relu(x)\n",
    "\n",
    "def dropout(x):\n",
    "    return tf.nn.dropout(x, keep_prob)\n",
    "    \n",
    "def CNNet(x):    \n",
    "    \"\"\"Architecture for CNN\n",
    "    \"\"\"\n",
    "    #Layer 1: Convolutional. Input = 32x32x3. Output = 30x30x6.\n",
    "    layer1 = conv(x, 1, 3, 3, 6, 1, 1)\n",
    "    \n",
    "    #Layer 2: Convolutional. Input = 30x30x3. Output = 28x28x12.\n",
    "    layer2 = conv(layer1, 6, 3, 3, 12, 1, 1)\n",
    "    \n",
    "    # Average Pooling. Input = 28x28x12. Output = 14x14x12.\n",
    "    layer2 = avg_pool(layer2, ksize=[1, 2, 2, 1], stride_x=2, stride_y=2)\n",
    "    \n",
    "    #Layer 3: Convolutional. Input = 14x14x12. Output = 10x10x32.\n",
    "    layer3 = conv(layer2, 12, 5, 5, 32, 1, 1)\n",
    "    \n",
    "    # Average Pooling. Input = 10x10x32. Output = 5x5x32.\n",
    "    layer3 = avg_pool(layer3, ksize=[1, 2, 2, 1], stride_x=2, stride_y=2)\n",
    "    \n",
    "    #Flatten. Input = 5x5x32. Output = 800.\n",
    "    flat_data   = flatten(layer3)\n",
    "    \n",
    "    #Layer 4: Fully Connected. Input = 800. Output = 240.\n",
    "    layer4 = fully_connected_network(flat_data, 800, 240)\n",
    "    #Activation.\n",
    "    layer4 = activation(layer4)\n",
    "    \n",
    "    #Layer 5: Fully Connected. Input = 240. Output = 168.\n",
    "    layer5 = fully_connected_network(layer4, 240, 168)\n",
    "    #Activation.\n",
    "    layer5 = activation(layer5)\n",
    "    \n",
    "    #Dropout\n",
    "    dop = dropout(layer5)\n",
    "    #Layer 6: Fully Connected. Input = 168. Output = 43.\n",
    "    logits   = fully_connected_network(dop, 168, 43)\n",
    "    \n",
    "    return logits"
   ]
  },
  {
   "cell_type": "code",
   "execution_count": 8,
   "metadata": {
    "collapsed": true
   },
   "outputs": [],
   "source": [
    "x = tf.placeholder(tf.float32, (None, 32, 32, 1))\n",
    "y = tf.placeholder(tf.int32, (None))\n",
    "one_hot_y = tf.one_hot(y, 43)"
   ]
  },
  {
   "cell_type": "code",
   "execution_count": 9,
   "metadata": {
    "collapsed": false,
    "scrolled": false
   },
   "outputs": [],
   "source": [
    "rate = 0.001\n",
    "\n",
    "logits = CNNet(x)\n",
    "cross_entropy = tf.nn.softmax_cross_entropy_with_logits(logits, one_hot_y)\n",
    "loss_operation = tf.reduce_mean(cross_entropy)\n",
    "optimizer = tf.train.AdamOptimizer(learning_rate = rate)\n",
    "training_operation = optimizer.minimize(loss_operation)"
   ]
  },
  {
   "cell_type": "markdown",
   "metadata": {
    "deletable": true,
    "editable": true
   },
   "source": [
    "### Train, Validate and Test the Model"
   ]
  },
  {
   "cell_type": "markdown",
   "metadata": {
    "deletable": true,
    "editable": true
   },
   "source": [
    "A validation set can be used to assess how well the model is performing. A low accuracy on the training and validation\n",
    "sets imply underfitting. A high accuracy on the training set but low accuracy on the validation set implies overfitting."
   ]
  },
  {
   "cell_type": "markdown",
   "metadata": {},
   "source": [
    "### Evaluate"
   ]
  },
  {
   "cell_type": "code",
   "execution_count": 45,
   "metadata": {
    "collapsed": true,
    "deletable": true,
    "editable": true
   },
   "outputs": [],
   "source": [
    "### Train your model here.\n",
    "### Calculate and report the accuracy on the training and validation set.\n",
    "### Once a final model architecture is selected, \n",
    "### the accuracy on the test set should be calculated and reported as well.\n",
    "### Feel free to use as many code cells as needed.\n",
    "predicted_values = tf.argmax(logits, 1)\n",
    "actual_values = tf.argmax(one_hot_y, 1)\n",
    "correct_prediction = tf.equal(tf.argmax(logits, 1), tf.argmax(one_hot_y, 1))\n",
    "accuracy_operation = tf.reduce_mean(tf.cast(correct_prediction, tf.float32))\n",
    "saver = tf.train.Saver()\n",
    "\n",
    "tp = np.zeros(43)\n",
    "fp = np.zeros(43)\n",
    "fn = np.zeros(43)\n",
    "\n",
    "def evaluate(X_data, y_data):\n",
    "    num_examples = len(X_data)\n",
    "    total_accuracy = 0\n",
    "    total_prediction = np.zeros(43)\n",
    "    total_actual = np.zeros(43)\n",
    "    sess = tf.get_default_session()\n",
    "    for offset in range(0, num_examples, BATCH_SIZE):\n",
    "        batch_x, batch_y = X_data[offset:offset+BATCH_SIZE], y_data[offset:offset+BATCH_SIZE]\n",
    "        prediction, actual, accuracy = sess.run([predicted_values, actual_values, accuracy_operation], feed_dict={x: batch_x, y: batch_y, keep_prob:1.0})\n",
    "        batch_prediction_count = np.bincount(prediction, minlength=43)\n",
    "        batch_actual_count = np.bincount(actual, minlength=43)\n",
    "        total_prediction += batch_prediction_count\n",
    "        total_actual += batch_actual_count\n",
    "        total_accuracy += (accuracy * len(batch_x))\n",
    "        for p, a in zip(prediction, actual):\n",
    "            if p == a:\n",
    "                tp[p] += 1\n",
    "            else:\n",
    "                fp[p] += 1\n",
    "                fn[a] += 1\n",
    "    \n",
    "    # 1 - Perfect match\n",
    "    # < 1 - Underfitting\n",
    "    # > 1 - Overfitting\n",
    "    match_percentage = np.round(np.abs(total_prediction/total_actual), decimals=3)\n",
    "    precision = np.round(tp/(tp+fp), decimals=3)\n",
    "    recall = np.round(tp/(tp+fn), decimals=3)\n",
    "    print(\"Match percentage: \", match_percentage)\n",
    "    print(\"Precision: \", precision)\n",
    "    print(\"Recall: \", recall)\n",
    "    return match_percentage, precision, recall, total_accuracy / num_examples\n",
    "\n",
    "def show_results(match_percentage, precision, recall):\n",
    "    op_format = \"{:7}{:50}{:>18}{:>10}{:>10}\"\n",
    "    print(op_format.format(\"S.No\", \"Name\", \"Match Percentage\", \"Precision\", \"Recall\"))\n",
    "    for i, (m, p, r) in enumerate(zip(match_percentage, precision, recall)):\n",
    "        print(op_format.format(str(i), y_names[i], m, p, r))"
   ]
  },
  {
   "cell_type": "markdown",
   "metadata": {},
   "source": [
    "### Training the model"
   ]
  },
  {
   "cell_type": "code",
   "execution_count": 11,
   "metadata": {
    "collapsed": false
   },
   "outputs": [
    {
     "name": "stdout",
     "output_type": "stream",
     "text": [
      "Training...\n",
      "\n",
      "EPOCH 1 ...\n",
      "Validation Accuracy = 0.873\n",
      "\n",
      "EPOCH 2 ...\n",
      "Validation Accuracy = 0.900\n",
      "\n",
      "EPOCH 3 ...\n",
      "Validation Accuracy = 0.916\n",
      "\n",
      "EPOCH 4 ...\n",
      "Validation Accuracy = 0.924\n",
      "\n",
      "EPOCH 5 ...\n",
      "Validation Accuracy = 0.913\n",
      "\n",
      "EPOCH 6 ...\n",
      "Validation Accuracy = 0.925\n",
      "\n",
      "EPOCH 7 ...\n",
      "Validation Accuracy = 0.945\n",
      "\n",
      "EPOCH 8 ...\n",
      "Validation Accuracy = 0.947\n",
      "\n",
      "EPOCH 9 ...\n",
      "Validation Accuracy = 0.949\n",
      "\n",
      "EPOCH 10 ...\n",
      "Validation Accuracy = 0.938\n",
      "\n",
      "EPOCH 11 ...\n",
      "Validation Accuracy = 0.936\n",
      "\n",
      "EPOCH 12 ...\n",
      "Validation Accuracy = 0.948\n",
      "\n",
      "EPOCH 13 ...\n",
      "Validation Accuracy = 0.942\n",
      "\n",
      "EPOCH 14 ...\n",
      "Validation Accuracy = 0.944\n",
      "\n",
      "EPOCH 15 ...\n",
      "Validation Accuracy = 0.948\n",
      "\n",
      "EPOCH 16 ...\n",
      "Validation Accuracy = 0.958\n",
      "\n",
      "EPOCH 17 ...\n",
      "Validation Accuracy = 0.941\n",
      "\n",
      "EPOCH 18 ...\n",
      "Validation Accuracy = 0.961\n",
      "\n",
      "EPOCH 19 ...\n",
      "Validation Accuracy = 0.960\n",
      "\n",
      "EPOCH 20 ...\n",
      "Validation Accuracy = 0.941\n",
      "\n",
      "EPOCH 21 ...\n",
      "Validation Accuracy = 0.955\n",
      "\n",
      "EPOCH 22 ...\n",
      "Validation Accuracy = 0.945\n",
      "\n",
      "EPOCH 23 ...\n",
      "Validation Accuracy = 0.964\n",
      "\n",
      "EPOCH 24 ...\n",
      "Validation Accuracy = 0.971\n",
      "\n",
      "EPOCH 25 ...\n",
      "Validation Accuracy = 0.970\n",
      "\n",
      "EPOCH 26 ...\n",
      "Validation Accuracy = 0.970\n",
      "\n",
      "EPOCH 27 ...\n",
      "Validation Accuracy = 0.970\n",
      "\n",
      "EPOCH 28 ...\n",
      "Validation Accuracy = 0.970\n",
      "\n",
      "EPOCH 29 ...\n",
      "Validation Accuracy = 0.970\n",
      "\n",
      "EPOCH 30 ...\n",
      "Validation Accuracy = 0.970\n",
      "\n",
      "Model saved\n"
     ]
    }
   ],
   "source": [
    "model = './ccnet'\n",
    "with tf.Session() as sess:\n",
    "    sess.run(tf.global_variables_initializer())\n",
    "    num_examples = len(processed_X_train)\n",
    "    \n",
    "    print(\"Training...\")\n",
    "    print()\n",
    "    for i in range(EPOCHS):\n",
    "        processed_X_train, processed_y_train = shuffle(processed_X_train, processed_y_train)\n",
    "        for offset in range(0, num_examples, BATCH_SIZE):\n",
    "            end = offset + BATCH_SIZE\n",
    "            batch_x, batch_y = processed_X_train[offset:end], processed_y_train[offset:end]\n",
    "            sess.run(training_operation, feed_dict={x: batch_x, y: batch_y, keep_prob:1.0})\n",
    "        validation_match_percentage, validation_precision, validation_recall,validation_accuracy = evaluate(processed_X_valid, processed_y_valid)\n",
    "        print(\"EPOCH {} ...\".format(i+1))\n",
    "        print(\"Validation Accuracy = {:.3f}\".format(validation_accuracy))\n",
    "        print()\n",
    "        \n",
    "    saver.save(sess, model)\n",
    "    print(\"Model saved\")\n",
    "show_results(validation_match_percentage, validation_precision, validation_recall)"
   ]
  },
  {
   "cell_type": "markdown",
   "metadata": {},
   "source": [
    "### Evaluate Model\n",
    "\n",
    "High Accuracy for both training and validation set indicates the model is right whereas, high accuracy on the training set and low accuracy on the validation set indicates that the model is overfitted to the training set."
   ]
  },
  {
   "cell_type": "code",
   "execution_count": 46,
   "metadata": {
    "collapsed": false
   },
   "outputs": [
    {
     "name": "stdout",
     "output_type": "stream",
     "text": [
      "Match percentage:  [ 1.  1.  1.  1.  1.  1.  1.  1.  1.  1.  1.  1.  1.  1.  1.  1.  1.  1.\n",
      "  1.  1.  1.  1.  1.  1.  1.  1.  1.  1.  1.  1.  1.  1.  1.  1.  1.  1.\n",
      "  1.  1.  1.  1.  1.  1.  1.]\n",
      "Precision:  [ 1.  1.  1.  1.  1.  1.  1.  1.  1.  1.  1.  1.  1.  1.  1.  1.  1.  1.\n",
      "  1.  1.  1.  1.  1.  1.  1.  1.  1.  1.  1.  1.  1.  1.  1.  1.  1.  1.\n",
      "  1.  1.  1.  1.  1.  1.  1.]\n",
      "Recall:  [ 1.  1.  1.  1.  1.  1.  1.  1.  1.  1.  1.  1.  1.  1.  1.  1.  1.  1.\n",
      "  1.  1.  1.  1.  1.  1.  1.  1.  1.  1.  1.  1.  1.  1.  1.  1.  1.  1.\n",
      "  1.  1.  1.  1.  1.  1.  1.]\n",
      "Match percentage:  [ 0.833  0.996  1.008  0.967  1.043  1.038  1.     1.     0.993  0.993\n",
      "  1.024  1.047  1.09   0.996  0.978  1.022  0.9    0.992  1.017  1.033\n",
      "  0.95   0.867  0.833  0.967  0.567  1.04   1.017  0.9    1.117  1.133  1.\n",
      "  1.022  1.033  0.933  0.95   1.008  1.     1.     1.014  1.033  0.8    1.133\n",
      "  0.933]\n",
      "Precision:  [ 1.     0.996  0.998  0.999  0.995  0.993  1.     0.999  0.999  1.     0.998\n",
      "  0.993  0.991  1.     1.     0.997  1.     1.     0.997  0.995  0.986  1.\n",
      "  1.     0.994  1.     0.994  0.998  0.983  0.987  0.985  0.998  0.995\n",
      "  0.996  1.     0.998  0.999  1.     1.     0.998  0.997  1.     0.975  1.   ]\n",
      "Recall:  [ 0.976  0.996  0.999  0.995  1.     0.997  1.     0.999  0.998  0.999  1.\n",
      "  0.998  1.     1.     0.997  1.     0.986  0.999  0.998  1.     0.978\n",
      "  0.976  0.974  0.99   0.952  0.998  1.     0.971  1.     1.     0.998\n",
      "  0.997  1.     0.991  0.99   1.     1.     1.     0.999  1.     0.967\n",
      "  0.992  0.992]\n",
      "Training Accuracy = 1.000\n",
      "Validation Accuracy = 0.970\n",
      "S.NoName                                                Match Percentage Precision    Recall\n",
      "0   Speed limit (20km/h)                                           0.833       1.0     0.976\n",
      "1   Speed limit (30km/h)                                           0.996     0.996     0.996\n",
      "2   Speed limit (50km/h)                                           1.008     0.998     0.999\n",
      "3   Speed limit (60km/h)                                           0.967     0.999     0.995\n",
      "4   Speed limit (70km/h)                                           1.043     0.995       1.0\n",
      "5   Speed limit (80km/h)                                           1.038     0.993     0.997\n",
      "6   End of speed limit (80km/h)                                      1.0       1.0       1.0\n",
      "7   Speed limit (100km/h)                                            1.0     0.999     0.999\n",
      "8   Speed limit (120km/h)                                          0.993     0.999     0.998\n",
      "9   No passing                                                     0.993       1.0     0.999\n",
      "10  No passing for vehicles over 3.5 metric tons                   1.024     0.998       1.0\n",
      "11  Right-of-way at the next intersection                          1.047     0.993     0.998\n",
      "12  Priority road                                                   1.09     0.991       1.0\n",
      "13  Yield                                                          0.996       1.0       1.0\n",
      "14  Stop                                                           0.978       1.0     0.997\n",
      "15  No vehicles                                                    1.022     0.997       1.0\n",
      "16  Vehicles over 3.5 metric tons prohibited                         0.9       1.0     0.986\n",
      "17  No entry                                                       0.992       1.0     0.999\n",
      "18  General caution                                                1.017     0.997     0.998\n",
      "19  Dangerous curve to the left                                    1.033     0.995       1.0\n",
      "20  Dangerous curve to the right                                    0.95     0.986     0.978\n",
      "21  Double curve                                                   0.867       1.0     0.976\n",
      "22  Bumpy road                                                     0.833       1.0     0.974\n",
      "23  Slippery road                                                  0.967     0.994      0.99\n",
      "24  Road narrows on the right                                      0.567       1.0     0.952\n",
      "25  Road work                                                       1.04     0.994     0.998\n",
      "26  Traffic signals                                                1.017     0.998       1.0\n",
      "27  Pedestrians                                                      0.9     0.983     0.971\n",
      "28  Children crossing                                              1.117     0.987       1.0\n",
      "29  Bicycles crossing                                              1.133     0.985       1.0\n",
      "30  Beware of ice/snow                                               1.0     0.998     0.998\n",
      "31  Wild animals crossing                                          1.022     0.995     0.997\n",
      "32  End of all speed and passing limits                            1.033     0.996       1.0\n",
      "33  Turn right ahead                                               0.933       1.0     0.991\n",
      "34  Turn left ahead                                                 0.95     0.998      0.99\n",
      "35  Ahead only                                                     1.008     0.999       1.0\n",
      "36  Go straight or right                                             1.0       1.0       1.0\n",
      "37  Go straight or left                                              1.0       1.0       1.0\n",
      "38  Keep right                                                     1.014     0.998     0.999\n",
      "39  Keep left                                                      1.033     0.997       1.0\n",
      "40  Roundabout mandatory                                             0.8       1.0     0.967\n",
      "41  End of no passing                                              1.133     0.975     0.992\n",
      "42  End of no passing by vehicles over 3.5 metric tons             0.933       1.0     0.992\n"
     ]
    }
   ],
   "source": [
    "with tf.Session() as sess:\n",
    "    saver.restore(sess, model)\n",
    "    sess = tf.get_default_session()\n",
    "    training_match_percentage, training_precision, training_recall,training_accuracy = evaluate(processed_X_train, processed_y_train)\n",
    "    validation_match_percentage, validation_precision, validation_recall,validation_accuracy = evaluate(processed_X_valid, processed_y_valid)\n",
    "    print(\"Training Accuracy = {:.3f}\".format(training_accuracy))\n",
    "    print(\"Validation Accuracy = {:.3f}\".format(validation_accuracy))\n",
    "    show_results(validation_match_percentage, validation_precision, validation_recall)"
   ]
  },
  {
   "cell_type": "markdown",
   "metadata": {
    "deletable": true,
    "editable": true
   },
   "source": [
    "---\n",
    "\n",
    "## Step 3: Test a Model on New Images\n",
    "\n",
    "To give yourself more insight into how your model is working, download at least five pictures of German traffic signs from the web and use your model to predict the traffic sign type.\n",
    "\n",
    "You may find `signnames.csv` useful as it contains mappings from the class id (integer) to the actual sign name."
   ]
  },
  {
   "cell_type": "markdown",
   "metadata": {
    "deletable": true,
    "editable": true
   },
   "source": [
    "### Test Model on test images"
   ]
  },
  {
   "cell_type": "code",
   "execution_count": 54,
   "metadata": {
    "collapsed": false,
    "deletable": true,
    "editable": true
   },
   "outputs": [
    {
     "name": "stdout",
     "output_type": "stream",
     "text": [
      "Image index:  4137\n"
     ]
    },
    {
     "data": {
      "image/png": "[encoded data removed]",
      "text/plain": [
       "<matplotlib.figure.Figure at 0x13bed31d0>"
      ]
     },
     "metadata": {},
     "output_type": "display_data"
    },
    {
     "data": {
      "image/png": "[encoded data removed]",
      "text/plain": [
       "<matplotlib.figure.Figure at 0x137727a90>"
      ]
     },
     "metadata": {},
     "output_type": "display_data"
    },
    {
     "name": "stdout",
     "output_type": "stream",
     "text": [
      "Match percentage:  [ 0.967  1.051  0.98   1.049  0.973  1.063  0.853  0.987  1.004  1.     1.015\n",
      "  1.     1.006  1.014  0.956  1.048  1.013  0.956  0.967  1.     1.133\n",
      "  0.933  0.85   1.267  0.844  0.977  0.883  0.983  1.1    1.067  0.713\n",
      "  1.004  0.983  1.038  1.142  0.979  0.867  1.267  0.993  1.044  1.067\n",
      "  0.733  1.022]\n",
      "Precision:  [ 1.     0.972  0.988  0.96   0.993  0.95   0.994  0.975  0.983  0.986\n",
      "  0.989  0.976  0.989  0.993  0.995  0.974  0.994  0.999  0.98   0.997\n",
      "  0.93   1.     1.     0.9    0.966  0.975  0.979  0.899  0.953  0.961\n",
      "  0.953  0.976  0.975  0.979  0.946  0.995  0.993  0.912  0.982  0.965\n",
      "  0.907  0.982  0.962]\n",
      "Recall:  [ 0.973  0.992  0.981  0.976  0.985  0.977  0.933  0.97   0.984  0.986\n",
      "  0.996  0.98   0.997  0.998  0.976  0.994  0.992  0.981  0.968  1.     0.967\n",
      "  0.961  0.927  0.986  0.878  0.969  0.938  0.886  0.995  0.996  0.844\n",
      "  0.979  0.972  0.987  0.991  0.988  0.943  1.     0.98   0.983  0.907\n",
      "  0.906  0.967]\n",
      "Test Accuracy = 0.948\n"
     ]
    }
   ],
   "source": [
    "### Load the images and plot them here.\n",
    "### Feel free to use as many code cells as needed.\n",
    "import random\n",
    "import cv2\n",
    "import matplotlib.pyplot as plt\n",
    "%matplotlib inline\n",
    "\n",
    "\n",
    "index = random.randint(0, len(X_test)-1)\n",
    "print(\"Image index: \", index)\n",
    "\n",
    "plot_image([X_test[index]], \"Image before preprocessing \" + get_name(y_test[index]))\n",
    "preprocess_X_test = preprocess_list(X_test)\n",
    "plot_image([preprocess_X_test[index]], \"Image after preprocessing \" + get_name(y_test[index]))\n",
    "\n",
    "with tf.Session() as sess:\n",
    "    saver.restore(sess, model)\n",
    "    match_percentage, precision, recall, accuracy = evaluate(preprocess_X_test, y_test)  \n",
    "    print(\"Test Accuracy = {:.3f}\".format(accuracy))\n",
    "    show_results(match_percentage, precision, recall)"
   ]
  },
  {
   "cell_type": "markdown",
   "metadata": {
    "deletable": true,
    "editable": true
   },
   "source": [
    "### Load Images from Web"
   ]
  },
  {
   "cell_type": "code",
   "execution_count": 58,
   "metadata": {
    "collapsed": false,
    "deletable": true,
    "editable": true
   },
   "outputs": [
    {
     "name": "stdout",
     "output_type": "stream",
     "text": [
      "['./german-signs/1-30limit.png', './german-signs/23-Slippery Road.jpg', './german-signs/25-Road work.png', './german-signs/27-Pedestrians.png', './german-signs/8-120limit.jpg']\n",
      "./german-signs/1-30limit.png :  (32, 32, 3)\n",
      "./german-signs/23-Slippery Road.jpg :  (32, 32, 3)\n",
      "./german-signs/25-Road work.png :  (32, 32, 3)\n",
      "./german-signs/27-Pedestrians.png :  (32, 32, 3)\n",
      "./german-signs/8-120limit.jpg :  (32, 32, 3)\n"
     ]
    },
    {
     "data": {
      "image/png": "[encoded data removed]",
      "text/plain": [
       "<matplotlib.figure.Figure at 0x12394a390>"
      ]
     },
     "metadata": {},
     "output_type": "display_data"
    },
    {
     "name": "stdout",
     "output_type": "stream",
     "text": [
      "Y-values:  ['[1-Speed limit (30km/h)]', '[23-Slippery road]', '[25-Road work]', '[27-Pedestrians]', '[8-Speed limit (120km/h)]']\n"
     ]
    }
   ],
   "source": [
    "### Calculate the accuracy for these 5 new images. \n",
    "### For example, if the model predicted 1 out of 5 signs correctly, it's 20% accurate on these new images.\n",
    "import cv2\n",
    "import os\n",
    "from os import listdir\n",
    "from os.path import isfile, join\n",
    "import numpy as np\n",
    "\n",
    "import matplotlib.pyplot as plt\n",
    "%matplotlib inline\n",
    "\n",
    "def load_image(im_path):\n",
    "    img = cv2.imread(f)\n",
    "    b,g,r = cv2.split(img)\n",
    "    img = cv2.merge((r,g,b))\n",
    "    return img\n",
    "\n",
    "web_files_dir = \"./german-signs\"\n",
    "web_files = [join(web_files_dir, f) for f in listdir(web_files_dir) if isfile(join(web_files_dir, f)) and not f.startswith(\".\")]\n",
    "print(web_files)\n",
    "\n",
    "\n",
    "X_web_raw = []\n",
    "y_web_raw = []\n",
    "for f in web_files:\n",
    "    img = load_image(f)\n",
    "    print(f, \": \", img.shape)\n",
    "    X_web_raw.append(img)\n",
    "\n",
    "    _, file_name = os.path.split(f)\n",
    "    y_web_raw.append(int(file_name.split(\"-\")[0]))\n",
    "    \n",
    "    \n",
    "plt.imshow(np.hstack(X_web_raw))\n",
    "plt.show()\n",
    "\n",
    "print(\"Y-values: \", [get_name(y_w) for y_w in y_web_raw])"
   ]
  },
  {
   "cell_type": "markdown",
   "metadata": {},
   "source": [
    "### Pre Process web images"
   ]
  },
  {
   "cell_type": "code",
   "execution_count": 59,
   "metadata": {
    "collapsed": false
   },
   "outputs": [
    {
     "name": "stdout",
     "output_type": "stream",
     "text": [
      "Web Shape:  (5, 32, 32, 3)   (5,)\n",
      "Web Shape after preprocessing:  (5, 32, 32, 1)   (5,)\n"
     ]
    }
   ],
   "source": [
    "X_web = np.array(X_web_raw)\n",
    "y_web = np.array(y_web_raw)\n",
    "\n",
    "print(\"Web Shape: \", X_web.shape, \" \", y_web.shape)\n",
    "preprocess_X_web = preprocess_list(X_web)\n",
    "print(\"Web Shape after preprocessing: \", preprocess_X_web.shape, \" \", y_web.shape)"
   ]
  },
  {
   "cell_type": "markdown",
   "metadata": {},
   "source": [
    "### Predict the Sign Type for each Image and Evaluate"
   ]
  },
  {
   "cell_type": "code",
   "execution_count": 61,
   "metadata": {
    "collapsed": false
   },
   "outputs": [
    {
     "name": "stdout",
     "output_type": "stream",
     "text": [
      "Predictions:  ['[1-Speed limit (30km/h)]', '[23-Slippery road]', '[25-Road work]', '[27-Pedestrians]', '[8-Speed limit (120km/h)]']\n",
      "Actual:  ['[1-Speed limit (30km/h)]', '[23-Slippery road]', '[25-Road work]', '[27-Pedestrians]', '[8-Speed limit (120km/h)]']\n"
     ]
    }
   ],
   "source": [
    "with tf.Session() as sess:\n",
    "        saver.restore(sess, model)\n",
    "        sess = tf.get_default_session()\n",
    "        predictions = sess.run(predicted_values, {x: preprocess_X_web, y: y_web, keep_prob:1.0})\n",
    "        print(\"Predictions: \", [get_name(p) for p in predictions])\n",
    "        print(\"Actual: \", [get_name(y_w) for y_w in y_web_raw])"
   ]
  },
  {
   "cell_type": "markdown",
   "metadata": {
    "deletable": true,
    "editable": true
   },
   "source": [
    "### Output Top 5 Softmax Probabilities For Each Image Found on the Web"
   ]
  },
  {
   "cell_type": "markdown",
   "metadata": {
    "deletable": true,
    "editable": true
   },
   "source": [
    "For each of the new images, print out the model's softmax probabilities to show the **certainty** of the model's predictions (limit the output to the top 5 probabilities for each image). [`tf.nn.top_k`](https://www.tensorflow.org/versions/r0.12/api_docs/python/nn.html#top_k) could prove helpful here. \n",
    "\n",
    "The example below demonstrates how tf.nn.top_k can be used to find the top k predictions for each image.\n",
    "\n",
    "`tf.nn.top_k` will return the values and indices (class ids) of the top k predictions. So if k=3, for each sign, it'll return the 3 largest probabilities (out of a possible 43) and the correspoding class ids.\n",
    "\n",
    "Take this numpy array as an example. The values in the array represent predictions. The array contains softmax probabilities for five candidate images with six possible classes. `tk.nn.top_k` is used to choose the three classes with the highest probability:\n",
    "\n",
    "```\n",
    "# (5, 6) array\n",
    "a = np.array([[ 0.24879643,  0.07032244,  0.12641572,  0.34763842,  0.07893497,\n",
    "         0.12789202],\n",
    "       [ 0.28086119,  0.27569815,  0.08594638,  0.0178669 ,  0.18063401,\n",
    "         0.15899337],\n",
    "       [ 0.26076848,  0.23664738,  0.08020603,  0.07001922,  0.1134371 ,\n",
    "         0.23892179],\n",
    "       [ 0.11943333,  0.29198961,  0.02605103,  0.26234032,  0.1351348 ,\n",
    "         0.16505091],\n",
    "       [ 0.09561176,  0.34396535,  0.0643941 ,  0.16240774,  0.24206137,\n",
    "         0.09155967]])\n",
    "```\n",
    "\n",
    "Running it through `sess.run(tf.nn.top_k(tf.constant(a), k=3))` produces:\n",
    "\n",
    "```\n",
    "TopKV2(values=array([[ 0.34763842,  0.24879643,  0.12789202],\n",
    "       [ 0.28086119,  0.27569815,  0.18063401],\n",
    "       [ 0.26076848,  0.23892179,  0.23664738],\n",
    "       [ 0.29198961,  0.26234032,  0.16505091],\n",
    "       [ 0.34396535,  0.24206137,  0.16240774]]), indices=array([[3, 0, 5],\n",
    "       [0, 1, 4],\n",
    "       [0, 5, 1],\n",
    "       [1, 3, 5],\n",
    "       [1, 4, 3]], dtype=int32))\n",
    "```\n",
    "\n",
    "Looking just at the first row we get `[ 0.34763842,  0.24879643,  0.12789202]`, you can confirm these are the 3 largest probabilities in `a`. You'll also notice `[3, 0, 5]` are the corresponding indices."
   ]
  },
  {
   "cell_type": "code",
   "execution_count": 62,
   "metadata": {
    "collapsed": false,
    "deletable": true,
    "editable": true
   },
   "outputs": [
    {
     "name": "stdout",
     "output_type": "stream",
     "text": [
      "TopKV2(values=array([[  9.99996305e-01,   3.10001133e-06,   4.20723268e-07,\n",
      "          9.57897797e-08,   5.77529597e-08],\n",
      "       [  1.00000000e+00,   1.32495375e-08,   8.69481136e-13,\n",
      "          1.87955662e-13,   8.93518793e-14],\n",
      "       [  8.96042645e-01,   1.03941321e-01,   8.06027674e-06,\n",
      "          3.64799439e-06,   3.22552683e-06],\n",
      "       [  1.00000000e+00,   1.86119786e-10,   1.07452673e-15,\n",
      "          1.97651446e-16,   9.47491717e-18],\n",
      "       [  9.94099379e-01,   4.30184649e-03,   1.56623113e-03,\n",
      "          3.25140245e-05,   4.90777410e-08]], dtype=float32), indices=array([[ 1, 31, 26,  0, 40],\n",
      "       [23, 31, 19, 26, 20],\n",
      "       [25, 24,  4, 40,  7],\n",
      "       [27, 26, 24, 25, 11],\n",
      "       [ 8,  0,  5, 14,  7]], dtype=int32))\n"
     ]
    },
    {
     "data": {
      "image/png": "[encoded data removed]",
      "text/plain": [
       "<matplotlib.figure.Figure at 0x123078f60>"
      ]
     },
     "metadata": {},
     "output_type": "display_data"
    },
    {
     "data": {
      "image/png": "[encoded data removed]",
      "text/plain": [
       "<matplotlib.figure.Figure at 0x10e9e9668>"
      ]
     },
     "metadata": {},
     "output_type": "display_data"
    },
    {
     "data": {
      "image/png": "[encoded data removed]",
      "text/plain": [
       "<matplotlib.figure.Figure at 0x13e7d4b38>"
      ]
     },
     "metadata": {},
     "output_type": "display_data"
    },
    {
     "data": {
      "image/png": "[encoded data removed]",
      "text/plain": [
       "<matplotlib.figure.Figure at 0x12542eda0>"
      ]
     },
     "metadata": {},
     "output_type": "display_data"
    },
    {
     "data": {
      "image/png": "[encoded data removed]",
      "text/plain": [
       "<matplotlib.figure.Figure at 0x1254eeb00>"
      ]
     },
     "metadata": {},
     "output_type": "display_data"
    }
   ],
   "source": [
    "### Print out the top five softmax probabilities for the predictions on the German traffic sign images found on the web. \n",
    "### Feel free to use as many code cells as needed.\n",
    "k_val = 5\n",
    "with tf.Session() as sess:\n",
    "    saver.restore(sess, model)\n",
    "    sess = tf.get_default_session()\n",
    "    top_k = sess.run(tf.nn.top_k(tf.nn.softmax(logits), k = k_val), {x: preprocess_X_web, y: y_web, keep_prob: 1.0})\n",
    "    print(top_k)\n",
    "\n",
    "softmax_values = top_k.values\n",
    "top_k_predictions = top_k.indices\n",
    "\n",
    "for i, (softmax_value, top_k_prediction) in enumerate(zip(softmax_values, top_k_predictions)):\n",
    "    fig, ax = plt.subplots()\n",
    "    plt.axis([0, k_val, 0, 1.2])\n",
    "    plt.title(\"Web Image: [\" + y_names[y_web[i]] + \"]\")\n",
    "    plt.tick_params(bottom='off')\n",
    "    ax.set_ylabel('Softmax probabilities')\n",
    "    ax.set_xticklabels([y_names[p] for p in top_k_prediction], fontsize=8, wrap=True, rotation=45, ha='right')\n",
    "    bars = ax.bar(np.arange(X_web.shape[0]), softmax_value, 1.0/k_val, color='g')\n",
    "    for bar in bars:\n",
    "        height = bar.get_height()\n",
    "        ax.text(bar.get_x() + bar.get_width()/2., height + bar.get_width()/5,\"%.4f\" % height, ha='left', va='bottom', fontsize=8, color='r')\n",
    "\n",
    "plt.show()"
   ]
  },
  {
   "cell_type": "markdown",
   "metadata": {
    "deletable": true,
    "editable": true
   },
   "source": [
    "---\n",
    "\n",
    "## Step 4: Visualize the Neural Network's State with Test Images\n",
    "\n",
    " This Section is not required to complete but acts as an additional excersise for understaning the output of a neural network's weights. While neural networks can be a great learning device they are often referred to as a black box. We can understand what the weights of a neural network look like better by plotting their feature maps. After successfully training your neural network you can see what it's feature maps look like by plotting the output of the network's weight layers in response to a test stimuli image. From these plotted feature maps, it's possible to see what characteristics of an image the network finds interesting. For a sign, maybe the inner network feature maps react with high activation to the sign's boundary outline or to the contrast in the sign's painted symbol.\n",
    "\n",
    " Provided for you below is the function code that allows you to get the visualization output of any tensorflow weight layer you want. The inputs to the function should be a stimuli image, one used during training or a new one you provided, and then the tensorflow variable name that represents the layer's state during the training process, for instance if you wanted to see what the [LeNet lab's](https://classroom.udacity.com/nanodegrees/nd013/parts/fbf77062-5703-404e-b60c-95b78b2f3f9e/modules/6df7ae49-c61c-4bb2-a23e-6527e69209ec/lessons/601ae704-1035-4287-8b11-e2c2716217ad/concepts/d4aca031-508f-4e0b-b493-e7b706120f81) feature maps looked like for it's second convolutional layer you could enter conv2 as the tf_activation variable.\n",
    "\n",
    "For an example of what feature map outputs look like, check out NVIDIA's results in their paper [End-to-End Deep Learning for Self-Driving Cars](https://devblogs.nvidia.com/parallelforall/deep-learning-self-driving-cars/) in the section Visualization of internal CNN State. NVIDIA was able to show that their network's inner weights had high activations to road boundary lines by comparing feature maps from an image with a clear path to one without. Try experimenting with a similar test to show that your trained network's weights are looking for interesting features, whether it's looking at differences in feature maps from images with or without a sign, or even what feature maps look like in a trained network vs a completely untrained one on the same sign image.\n",
    "\n",
    "<figure>\n",
    " <img src=\"visualize_cnn.png\" width=\"380\" alt=\"Combined Image\" />\n",
    " <figcaption>\n",
    " <p></p> \n",
    " <p style=\"text-align: center;\"> Your output should look something like this (above)</p> \n",
    " </figcaption>\n",
    "</figure>\n",
    " <p></p> \n"
   ]
  },
  {
   "cell_type": "code",
   "execution_count": 19,
   "metadata": {
    "collapsed": false,
    "deletable": true,
    "editable": true
   },
   "outputs": [],
   "source": [
    "### Visualize your network's feature maps here.\n",
    "### Feel free to use as many code cells as needed.\n",
    "\n",
    "# image_input: the test image being fed into the network to produce the feature maps\n",
    "# tf_activation: should be a tf variable name used during your training procedure that represents the calculated state of a specific weight layer\n",
    "# activation_min/max: can be used to view the activation contrast in more detail, by default matplot sets min and max to the actual min and max values of the output\n",
    "# plt_num: used to plot out multiple different weight feature map sets on the same block, just extend the plt number for each new feature map entry\n",
    "\n",
    "def outputFeatureMap(image_input, tf_activation, activation_min=-1, activation_max=-1 ,plt_num=1):\n",
    "    # Here make sure to preprocess your image_input in a way your network expects\n",
    "    # with size, normalization, ect if needed\n",
    "    # image_input =\n",
    "    # Note: x should be the same name as your network's tensorflow data placeholder variable\n",
    "    # If you get an error tf_activation is not defined it maybe having trouble accessing the variable from inside a function\n",
    "    activation = tf_activation.eval(session=sess,feed_dict={x : image_input})\n",
    "    featuremaps = activation.shape[3]\n",
    "    plt.figure(plt_num, figsize=(15,15))\n",
    "    for featuremap in range(featuremaps):\n",
    "        plt.subplot(6,8, featuremap+1) # sets the number of feature maps to show on each row and column\n",
    "        plt.title('FeatureMap ' + str(featuremap)) # displays the feature map number\n",
    "        if activation_min != -1 & activation_max != -1:\n",
    "            plt.imshow(activation[0,:,:, featuremap], interpolation=\"nearest\", vmin =activation_min, vmax=activation_max, cmap=\"gray\")\n",
    "        elif activation_max != -1:\n",
    "            plt.imshow(activation[0,:,:, featuremap], interpolation=\"nearest\", vmax=activation_max, cmap=\"gray\")\n",
    "        elif activation_min !=-1:\n",
    "            plt.imshow(activation[0,:,:, featuremap], interpolation=\"nearest\", vmin=activation_min, cmap=\"gray\")\n",
    "        else:\n",
    "            plt.imshow(activation[0,:,:, featuremap], interpolation=\"nearest\", cmap=\"gray\")"
   ]
  },
  {
   "cell_type": "markdown",
   "metadata": {
    "deletable": true,
    "editable": true
   },
   "source": [
    "### Question 9\n",
    "\n",
    "Discuss how you used the visual output of your trained network's feature maps to show that it had learned to look for interesting characteristics in traffic sign images\n"
   ]
  },
  {
   "cell_type": "markdown",
   "metadata": {
    "deletable": true,
    "editable": true
   },
   "source": [
    "**Answer:**"
   ]
  },
  {
   "cell_type": "markdown",
   "metadata": {
    "deletable": true,
    "editable": true
   },
   "source": [
    "> **Note**: Once you have completed all of the code implementations and successfully answered each question above, you may finalize your work by exporting the iPython Notebook as an HTML document. You can do this by using the menu above and navigating to  \\n\",\n",
    "    \"**File -> Download as -> HTML (.html)**. Include the finished document along with this notebook as your submission."
   ]
  },
  {
   "cell_type": "markdown",
   "metadata": {
    "deletable": true,
    "editable": true
   },
   "source": [
    "### Project Writeup\n",
    "\n",
    "Once you have completed the code implementation, document your results in a project writeup using this [template](https://github.com/udacity/CarND-Traffic-Sign-Classifier-Project/blob/master/writeup_template.md) as a guide. The writeup can be in a markdown or pdf file. "
   ]
  }
 ],
 "metadata": {
  "anaconda-cloud": {},
  "kernelspec": {
   "display_name": "Python 3",
   "language": "python",
   "name": "python3"
  },
  "language_info": {
   "codemirror_mode": {
    "name": "ipython",
    "version": 3
   },
   "file_extension": ".py",
   "mimetype": "text/x-python",
   "name": "python",
   "nbconvert_exporter": "python",
   "pygments_lexer": "ipython3",
   "version": "3.5.2"
  },
  "widgets": {
   "state": {},
   "version": "1.1.2"
  }
 },
 "nbformat": 4,
 "nbformat_minor": 1
}
